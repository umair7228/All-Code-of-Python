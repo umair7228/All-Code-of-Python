{
 "cells": [
  {
   "cell_type": "code",
   "execution_count": 1,
   "id": "bddda42b",
   "metadata": {},
   "outputs": [],
   "source": [
    "import json"
   ]
  },
  {
   "cell_type": "markdown",
   "id": "4cad9d9a",
   "metadata": {},
   "source": [
    "#### Write JSON File"
   ]
  },
  {
   "cell_type": "code",
   "execution_count": 3,
   "id": "2d5bfd19",
   "metadata": {},
   "outputs": [],
   "source": [
    "# we can use json file for different things like list, dictionary, string etc\n",
    "fruits = ['Apple', 'Mango', 'Graps']\n",
    "with open(\"jsonFile.json\", \"w\") as file:\n",
    "    json.dump(fruits, file)"
   ]
  },
  {
   "cell_type": "code",
   "execution_count": 6,
   "id": "63a63726",
   "metadata": {},
   "outputs": [],
   "source": [
    "customer_29876 = {\n",
    "    \"first name\": \"Umair\",\n",
    "    \"last name\": \"Nawaz\",\n",
    "    \"address\": \"Karachi, Pakistan.\"}"
   ]
  },
  {
   "cell_type": "code",
   "execution_count": 7,
   "id": "78cb732f",
   "metadata": {},
   "outputs": [],
   "source": [
    "with open(\"customer_29876.json\", \"w\") as file:\n",
    "    json.dump(customer_29876, file)"
   ]
  },
  {
   "cell_type": "markdown",
   "id": "7d2064e1",
   "metadata": {},
   "source": [
    "####  Read json file"
   ]
  },
  {
   "cell_type": "code",
   "execution_count": 8,
   "id": "665f86e8",
   "metadata": {},
   "outputs": [],
   "source": [
    "with open(\"customer_29876.json\", \"r\") as file:\n",
    "    readJson = json.load(file)"
   ]
  },
  {
   "cell_type": "code",
   "execution_count": 11,
   "id": "1204759b",
   "metadata": {},
   "outputs": [
    {
     "name": "stdout",
     "output_type": "stream",
     "text": [
      "{'first name': 'Umair', 'last name': 'Nawaz', 'address': 'Karachi, Pakistan.'}\n"
     ]
    }
   ],
   "source": [
    "print(readJson)"
   ]
  },
  {
   "cell_type": "markdown",
   "id": "235a3f84",
   "metadata": {},
   "source": [
    "#### Example 2"
   ]
  },
  {
   "cell_type": "code",
   "execution_count": 15,
   "id": "be7bfb17",
   "metadata": {},
   "outputs": [],
   "source": [
    "with open(\"example_2.json\", \"r\") as file:\n",
    "    complexJson = json.load(file)"
   ]
  },
  {
   "cell_type": "code",
   "execution_count": 16,
   "id": "7d006928",
   "metadata": {},
   "outputs": [
    {
     "data": {
      "text/plain": [
       "{'quiz': {'sport': {'q1': {'question': 'Which one is correct team name in NBA?',\n",
       "    'options': ['New York Bulls',\n",
       "     'Los Angeles Kings',\n",
       "     'Golden State Warriros',\n",
       "     'Huston Rocket'],\n",
       "    'answer': 'Huston Rocket'}},\n",
       "  'maths': {'q1': {'question': '5 + 7 = ?',\n",
       "    'options': ['10', '11', '12', '13'],\n",
       "    'answer': '12'},\n",
       "   'q2': {'question': '12 - 8 = ?',\n",
       "    'options': ['1', '2', '3', '4'],\n",
       "    'answer': '4'}}}}"
      ]
     },
     "execution_count": 16,
     "metadata": {},
     "output_type": "execute_result"
    }
   ],
   "source": [
    "complexJson"
   ]
  },
  {
   "cell_type": "code",
   "execution_count": 25,
   "id": "e49a4da5",
   "metadata": {},
   "outputs": [
    {
     "data": {
      "text/plain": [
       "'12'"
      ]
     },
     "execution_count": 25,
     "metadata": {},
     "output_type": "execute_result"
    }
   ],
   "source": [
    "complexJson[\"quiz\"][\"maths\"][\"q1\"][\"answer\"]"
   ]
  },
  {
   "cell_type": "code",
   "execution_count": 41,
   "id": "b8a02004",
   "metadata": {},
   "outputs": [
    {
     "data": {
      "text/plain": [
       "'Huston Rocket'"
      ]
     },
     "execution_count": 41,
     "metadata": {},
     "output_type": "execute_result"
    }
   ],
   "source": [
    "complexJson[\"quiz\"][\"sport\"][\"q1\"].get(\"answer\")"
   ]
  },
  {
   "cell_type": "code",
   "execution_count": 46,
   "id": "b5df307a",
   "metadata": {},
   "outputs": [
    {
     "data": {
      "text/plain": [
       "'3'"
      ]
     },
     "execution_count": 46,
     "metadata": {},
     "output_type": "execute_result"
    }
   ],
   "source": [
    "complexJson[\"quiz\"][\"maths\"][\"q2\"]['options'][2]"
   ]
  },
  {
   "cell_type": "markdown",
   "id": "d2adef6f",
   "metadata": {},
   "source": [
    "## try except"
   ]
  },
  {
   "cell_type": "code",
   "execution_count": 47,
   "id": "7afcd965",
   "metadata": {},
   "outputs": [
    {
     "ename": "TypeError",
     "evalue": "TextIOWrapper.write() takes exactly one argument (0 given)",
     "output_type": "error",
     "traceback": [
      "\u001b[1;31m---------------------------------------------------------------------------\u001b[0m",
      "\u001b[1;31mTypeError\u001b[0m                                 Traceback (most recent call last)",
      "Cell \u001b[1;32mIn[47], line 3\u001b[0m\n\u001b[0;32m      1\u001b[0m lst \u001b[38;5;241m=\u001b[39m [\u001b[38;5;124m\"\u001b[39m\u001b[38;5;124ma\u001b[39m\u001b[38;5;124m\"\u001b[39m, \u001b[38;5;124m\"\u001b[39m\u001b[38;5;124mb\u001b[39m\u001b[38;5;124m\"\u001b[39m, \u001b[38;5;124m\"\u001b[39m\u001b[38;5;124mc\u001b[39m\u001b[38;5;124m\"\u001b[39m]\n\u001b[0;32m      2\u001b[0m \u001b[38;5;28;01mwith\u001b[39;00m \u001b[38;5;28mopen\u001b[39m(\u001b[38;5;124m\"\u001b[39m\u001b[38;5;124mlab17new.txt\u001b[39m\u001b[38;5;124m\"\u001b[39m, \u001b[38;5;124m\"\u001b[39m\u001b[38;5;124mw\u001b[39m\u001b[38;5;124m\"\u001b[39m) \u001b[38;5;28;01mas\u001b[39;00m file:\n\u001b[1;32m----> 3\u001b[0m     file\u001b[38;5;241m.\u001b[39mwrite()\n",
      "\u001b[1;31mTypeError\u001b[0m: TextIOWrapper.write() takes exactly one argument (0 given)"
     ]
    }
   ],
   "source": [
    "lst = [\"a\", \"b\", \"c\"]\n",
    "with open(\"lab17new.txt\", \"w\") as file:\n",
    "    file.write()"
   ]
  },
  {
   "cell_type": "code",
   "execution_count": 48,
   "id": "e4dd3c48",
   "metadata": {},
   "outputs": [
    {
     "name": "stdout",
     "output_type": "stream",
     "text": [
      "text file doesn't take iteratables\n"
     ]
    }
   ],
   "source": [
    "try:\n",
    "    lst = [\"a\", \"b\", \"c\"]\n",
    "    with open(\"lab17new.txt\", \"w\") as file:\n",
    "        file.write()\n",
    "except TypeError:\n",
    "    print(\"text file doesn't take iteratables\")"
   ]
  },
  {
   "cell_type": "code",
   "execution_count": 49,
   "id": "b1039fa0",
   "metadata": {},
   "outputs": [
    {
     "name": "stdout",
     "output_type": "stream",
     "text": [
      "What text file to open? file.txt\n"
     ]
    },
    {
     "ename": "FileNotFoundError",
     "evalue": "[Errno 2] No such file or directory: 'file.txt'",
     "output_type": "error",
     "traceback": [
      "\u001b[1;31m---------------------------------------------------------------------------\u001b[0m",
      "\u001b[1;31mFileNotFoundError\u001b[0m                         Traceback (most recent call last)",
      "Cell \u001b[1;32mIn[49], line 2\u001b[0m\n\u001b[0;32m      1\u001b[0m filename \u001b[38;5;241m=\u001b[39m \u001b[38;5;28minput\u001b[39m(\u001b[38;5;124m\"\u001b[39m\u001b[38;5;124mWhat text file to open? \u001b[39m\u001b[38;5;124m\"\u001b[39m)\n\u001b[1;32m----> 2\u001b[0m \u001b[38;5;28;01mwith\u001b[39;00m \u001b[38;5;28mopen\u001b[39m(filename) \u001b[38;5;28;01mas\u001b[39;00m f:\n\u001b[0;32m      3\u001b[0m     \u001b[38;5;28mprint\u001b[39m(f\u001b[38;5;241m.\u001b[39mread())\n",
      "File \u001b[1;32mD:\\conda_install\\Lib\\site-packages\\IPython\\core\\interactiveshell.py:286\u001b[0m, in \u001b[0;36m_modified_open\u001b[1;34m(file, *args, **kwargs)\u001b[0m\n\u001b[0;32m    279\u001b[0m \u001b[38;5;28;01mif\u001b[39;00m file \u001b[38;5;129;01min\u001b[39;00m {\u001b[38;5;241m0\u001b[39m, \u001b[38;5;241m1\u001b[39m, \u001b[38;5;241m2\u001b[39m}:\n\u001b[0;32m    280\u001b[0m     \u001b[38;5;28;01mraise\u001b[39;00m \u001b[38;5;167;01mValueError\u001b[39;00m(\n\u001b[0;32m    281\u001b[0m         \u001b[38;5;124mf\u001b[39m\u001b[38;5;124m\"\u001b[39m\u001b[38;5;124mIPython won\u001b[39m\u001b[38;5;124m'\u001b[39m\u001b[38;5;124mt let you open fd=\u001b[39m\u001b[38;5;132;01m{\u001b[39;00mfile\u001b[38;5;132;01m}\u001b[39;00m\u001b[38;5;124m by default \u001b[39m\u001b[38;5;124m\"\u001b[39m\n\u001b[0;32m    282\u001b[0m         \u001b[38;5;124m\"\u001b[39m\u001b[38;5;124mas it is likely to crash IPython. If you know what you are doing, \u001b[39m\u001b[38;5;124m\"\u001b[39m\n\u001b[0;32m    283\u001b[0m         \u001b[38;5;124m\"\u001b[39m\u001b[38;5;124myou can use builtins\u001b[39m\u001b[38;5;124m'\u001b[39m\u001b[38;5;124m open.\u001b[39m\u001b[38;5;124m\"\u001b[39m\n\u001b[0;32m    284\u001b[0m     )\n\u001b[1;32m--> 286\u001b[0m \u001b[38;5;28;01mreturn\u001b[39;00m io_open(file, \u001b[38;5;241m*\u001b[39margs, \u001b[38;5;241m*\u001b[39m\u001b[38;5;241m*\u001b[39mkwargs)\n",
      "\u001b[1;31mFileNotFoundError\u001b[0m: [Errno 2] No such file or directory: 'file.txt'"
     ]
    }
   ],
   "source": [
    "filename = input(\"What text file to open? \")\n",
    "with open(filename) as f:\n",
    "    print(f.read())"
   ]
  },
  {
   "cell_type": "code",
   "execution_count": 50,
   "id": "e47d330c",
   "metadata": {},
   "outputs": [
    {
     "name": "stdout",
     "output_type": "stream",
     "text": [
      "What text file to open? file.txt\n",
      "Sorry, file.txt not found.\n"
     ]
    }
   ],
   "source": [
    "try:\n",
    "    filename = input(\"What text file to open? \")\n",
    "    with open(filename) as f:\n",
    "        print(f.read())\n",
    "except FileNotFoundError:\n",
    "    print(\"Sorry, \" + filename + \" not found.\")"
   ]
  },
  {
   "cell_type": "code",
   "execution_count": 51,
   "id": "4aaf05e7",
   "metadata": {},
   "outputs": [
    {
     "ename": "ZeroDivisionError",
     "evalue": "division by zero",
     "output_type": "error",
     "traceback": [
      "\u001b[1;31m---------------------------------------------------------------------------\u001b[0m",
      "\u001b[1;31mZeroDivisionError\u001b[0m                         Traceback (most recent call last)",
      "Cell \u001b[1;32mIn[51], line 1\u001b[0m\n\u001b[1;32m----> 1\u001b[0m \u001b[38;5;241m1\u001b[39m\u001b[38;5;241m/\u001b[39m\u001b[38;5;241m0\u001b[39m\n",
      "\u001b[1;31mZeroDivisionError\u001b[0m: division by zero"
     ]
    }
   ],
   "source": [
    "1/0"
   ]
  },
  {
   "cell_type": "code",
   "execution_count": 52,
   "id": "50a31f5f",
   "metadata": {},
   "outputs": [
    {
     "name": "stdout",
     "output_type": "stream",
     "text": [
      "Not Possible As Infinite Number\n"
     ]
    }
   ],
   "source": [
    "try:\n",
    "    1/0\n",
    "except ZeroDivisionError:\n",
    "    print(\"Not Possible As Infinite Number\")"
   ]
  }
 ],
 "metadata": {
  "kernelspec": {
   "display_name": "Python 3 (ipykernel)",
   "language": "python",
   "name": "python3"
  },
  "language_info": {
   "codemirror_mode": {
    "name": "ipython",
    "version": 3
   },
   "file_extension": ".py",
   "mimetype": "text/x-python",
   "name": "python",
   "nbconvert_exporter": "python",
   "pygments_lexer": "ipython3",
   "version": "3.11.5"
  }
 },
 "nbformat": 4,
 "nbformat_minor": 5
}
