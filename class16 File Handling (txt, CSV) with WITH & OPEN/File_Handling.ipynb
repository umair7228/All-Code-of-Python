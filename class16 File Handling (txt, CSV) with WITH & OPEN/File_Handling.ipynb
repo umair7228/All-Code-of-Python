{
 "cells": [
  {
   "cell_type": "markdown",
   "id": "cbf88262",
   "metadata": {},
   "source": [
    "### Data files: Storing data"
   ]
  },
  {
   "cell_type": "markdown",
   "id": "091f4f04",
   "metadata": {},
   "source": [
    "#### txt file (write, read, append modes)"
   ]
  },
  {
   "cell_type": "code",
   "execution_count": 7,
   "id": "35197d1a",
   "metadata": {},
   "outputs": [],
   "source": [
    "# Creating a simple txt file:\n",
    "# To write text in new file we use write mode using 'w' keyword: \n",
    "with open(\"file.txt\", 'w') as file:\n",
    "    file.write(\"Hellow, We are learning file handling in python.\")"
   ]
  },
  {
   "cell_type": "code",
   "execution_count": 3,
   "id": "2a96e6d1",
   "metadata": {},
   "outputs": [],
   "source": [
    "# Creating a file inside the folder:\n",
    "with open(\"data/file.txt\", 'w') as file:\n",
    "    file.write(\"Hellow, We are learning file handling in python.\")"
   ]
  },
  {
   "cell_type": "markdown",
   "id": "1aa9fc1b",
   "metadata": {},
   "source": [
    "### Data files: Appending data"
   ]
  },
  {
   "cell_type": "code",
   "execution_count": 8,
   "id": "17901fd1",
   "metadata": {},
   "outputs": [],
   "source": [
    "# Appending values in existing file:\n",
    "# To append text in existing file we use append mode using 'a' keyword\n",
    "with open(\"file.txt\", 'a') as file:\n",
    "    file.write(\"\\nAppending values in already existing file.\")"
   ]
  },
  {
   "cell_type": "markdown",
   "id": "d24f59bb",
   "metadata": {},
   "source": [
    "### Data files: Retrieving data"
   ]
  },
  {
   "cell_type": "code",
   "execution_count": 10,
   "id": "dd9ef5d5",
   "metadata": {},
   "outputs": [
    {
     "name": "stdout",
     "output_type": "stream",
     "text": [
      "Hellow, We are learning file handling in python.\n",
      "Appending values in already existing file.\n"
     ]
    }
   ],
   "source": [
    "# read mode:\n",
    "# To read text in a file we use read mode using 'r' keyowrd:\n",
    "with open(\"file.txt\", 'r') as file:\n",
    "    fileContent = file.read() # We can store file in a variable using read mode and print\n",
    "    print(fileContent)"
   ]
  },
  {
   "cell_type": "code",
   "execution_count": 15,
   "id": "2914afd4",
   "metadata": {},
   "outputs": [],
   "source": [
    "file1 = open(\"without with keyword\", 'w')"
   ]
  },
  {
   "cell_type": "code",
   "execution_count": 16,
   "id": "6b0c9efa",
   "metadata": {},
   "outputs": [],
   "source": [
    "file1.write(\"Creating a file without using 'with' keyword\")\n",
    "file1.close() # if we will not use with keyword so we will have to close the file manualy\n",
    "\n",
    "# If we use with keyword so we don't need to close the file manually."
   ]
  },
  {
   "cell_type": "markdown",
   "id": "bc68340e",
   "metadata": {},
   "source": [
    "#### Adding variables in file.txt"
   ]
  },
  {
   "cell_type": "code",
   "execution_count": 24,
   "id": "f67fe3fc",
   "metadata": {},
   "outputs": [],
   "source": [
    "greetings = \"Welcom to Python Class.\"\n",
    "with open(\"file.txt\", 'a') as file:\n",
    "    file.write(greetings)"
   ]
  },
  {
   "cell_type": "markdown",
   "id": "038f672f",
   "metadata": {},
   "source": [
    "### Modules"
   ]
  },
  {
   "cell_type": "code",
   "execution_count": 1,
   "id": "36fd5965",
   "metadata": {},
   "outputs": [],
   "source": [
    "import calculations"
   ]
  },
  {
   "cell_type": "markdown",
   "id": "c3c3917c",
   "metadata": {},
   "source": [
    "def addition(num1, num2):\n",
    "    return num1 + num2\n",
    "\n",
    "def subtraction(num1, num2):\n",
    "    return num1 - num2\n",
    "    \n",
    "def squrt(num):\n",
    "    return num**0.5\n",
    "\n",
    "#This sale has not been run, I have saved this code in a separate text file"
   ]
  },
  {
   "cell_type": "code",
   "execution_count": 2,
   "id": "b99f4b38",
   "metadata": {},
   "outputs": [
    {
     "data": {
      "text/plain": [
       "31"
      ]
     },
     "execution_count": 2,
     "metadata": {},
     "output_type": "execute_result"
    }
   ],
   "source": [
    "calculations.addition(8, 23)"
   ]
  },
  {
   "cell_type": "code",
   "execution_count": 3,
   "id": "8688466d",
   "metadata": {},
   "outputs": [
    {
     "data": {
      "text/plain": [
       "-17"
      ]
     },
     "execution_count": 3,
     "metadata": {},
     "output_type": "execute_result"
    }
   ],
   "source": [
    "calculations.subtraction(7,24)"
   ]
  },
  {
   "cell_type": "code",
   "execution_count": 4,
   "id": "cd0340a8",
   "metadata": {},
   "outputs": [
    {
     "data": {
      "text/plain": [
       "2.0"
      ]
     },
     "execution_count": 4,
     "metadata": {},
     "output_type": "execute_result"
    }
   ],
   "source": [
    "calculations.squrt(4)"
   ]
  },
  {
   "cell_type": "code",
   "execution_count": 7,
   "id": "c43d6d9e",
   "metadata": {},
   "outputs": [],
   "source": [
    "from calculations import addition, subtraction"
   ]
  },
  {
   "cell_type": "code",
   "execution_count": 8,
   "id": "6efc6f52",
   "metadata": {},
   "outputs": [
    {
     "data": {
      "text/plain": [
       "10"
      ]
     },
     "execution_count": 8,
     "metadata": {},
     "output_type": "execute_result"
    }
   ],
   "source": [
    "addition(6, 4)"
   ]
  },
  {
   "cell_type": "markdown",
   "id": "4caa386c",
   "metadata": {},
   "source": [
    "### csv file"
   ]
  },
  {
   "cell_type": "code",
   "execution_count": 1,
   "id": "15019791",
   "metadata": {},
   "outputs": [],
   "source": [
    "import csv"
   ]
  },
  {
   "cell_type": "markdown",
   "id": "773dd2ce",
   "metadata": {},
   "source": [
    "###### write mode"
   ]
  },
  {
   "cell_type": "code",
   "execution_count": 12,
   "id": "5afcb057",
   "metadata": {},
   "outputs": [],
   "source": [
    "with open('data.csv', 'w', newline=\"\") as file:\n",
    "    csvWrite = csv.writer(file, delimiter=',')\n",
    "    csvWrite.writerow([\"Year\", \"Event\", \"Winner\"]) # Header\n",
    "    csvWrite.writerow([\"1995\", \"Best-Kept Lawn\", \"None\"]) # data/record\n",
    "    csvWrite.writerow([\"1999\", \"Gobstones\", \"Welch National\"]) #data/record"
   ]
  },
  {
   "cell_type": "markdown",
   "id": "739fe31f",
   "metadata": {},
   "source": [
    "###### Append Mode"
   ]
  },
  {
   "cell_type": "code",
   "execution_count": 13,
   "id": "ece5902e",
   "metadata": {},
   "outputs": [],
   "source": [
    "with open('data.csv', 'a', newline=\"\") as file:\n",
    "    csvWrite = csv.writer(file, delimiter=',')\n",
    "    csvWrite.writerow([\"2000\", \"t-20\", \"Pakistan\"]) # data/record\n",
    "    csvWrite.writerow([\"2009\", \"one-day\", \"Pakistan\"]) #data/record"
   ]
  },
  {
   "cell_type": "markdown",
   "id": "c298a9ed",
   "metadata": {},
   "source": [
    "###### Read Mode"
   ]
  },
  {
   "cell_type": "code",
   "execution_count": 19,
   "id": "864cb21f",
   "metadata": {},
   "outputs": [],
   "source": [
    "with open('data.csv', 'r') as file:\n",
    "    csvRead = csv.reader(file, delimiter=',')\n",
    "    csvList =[]\n",
    "    \n",
    "    for record in csvRead:\n",
    "        csvList += record"
   ]
  },
  {
   "cell_type": "code",
   "execution_count": 20,
   "id": "6d3e3220",
   "metadata": {},
   "outputs": [
    {
     "name": "stdout",
     "output_type": "stream",
     "text": [
      "['Year', 'Event', 'Winner', '1995', 'Best-Kept Lawn', 'None', '1999', 'Gobstones', 'Welch National', '2000', 't-20', 'Pakistan', '2009', 'one-day', 'Pakistan']\n"
     ]
    }
   ],
   "source": [
    "print(csvList)"
   ]
  },
  {
   "cell_type": "code",
   "execution_count": 21,
   "id": "5bcb803c",
   "metadata": {},
   "outputs": [
    {
     "name": "stdout",
     "output_type": "stream",
     "text": [
      "[['Year', 'Event', 'Winner'], ['1995', 'Best-Kept Lawn', 'None'], ['1999', 'Gobstones', 'Welch National'], ['2000', 't-20', 'Pakistan'], ['2009', 'one-day', 'Pakistan']]\n"
     ]
    }
   ],
   "source": [
    "with open('data.csv', 'r') as file:\n",
    "    csvRead = csv.reader(file, delimiter=',')\n",
    "    print(list(csvRead))"
   ]
  },
  {
   "cell_type": "code",
   "execution_count": 27,
   "id": "4235839c",
   "metadata": {},
   "outputs": [
    {
     "name": "stdout",
     "output_type": "stream",
     "text": [
      "['Year', 'Event', 'Winner']\n",
      "['1995', 'Best-Kept Lawn', 'None']\n",
      "['1999', 'Gobstones', 'Welch National']\n",
      "['2000', 't-20', 'Pakistan']\n",
      "['2009', 'one-day', 'Pakistan']\n"
     ]
    }
   ],
   "source": [
    "with open('data.csv', 'r') as file:\n",
    "    csvRead = csv.reader(file, delimiter=',')\n",
    "    for record in list(csvRead):\n",
    "        print(record)"
   ]
  },
  {
   "cell_type": "code",
   "execution_count": 28,
   "id": "dac665c7",
   "metadata": {},
   "outputs": [
    {
     "name": "stdout",
     "output_type": "stream",
     "text": [
      "1995\n",
      "Best-Kept Lawn\n",
      "None\n"
     ]
    }
   ],
   "source": [
    "#slicing\n",
    "with open('data.csv', 'r') as file:\n",
    "    csvRead = csv.reader(file, delimiter=',')\n",
    "    for record in list(csvRead)[1]:\n",
    "        print(record)"
   ]
  }
 ],
 "metadata": {
  "kernelspec": {
   "display_name": "Python 3 (ipykernel)",
   "language": "python",
   "name": "python3"
  },
  "language_info": {
   "codemirror_mode": {
    "name": "ipython",
    "version": 3
   },
   "file_extension": ".py",
   "mimetype": "text/x-python",
   "name": "python",
   "nbconvert_exporter": "python",
   "pygments_lexer": "ipython3",
   "version": "3.11.5"
  }
 },
 "nbformat": 4,
 "nbformat_minor": 5
}
