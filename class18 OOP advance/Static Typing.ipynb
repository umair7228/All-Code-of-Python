{
 "cells": [
  {
   "cell_type": "markdown",
   "id": "9b8e0729",
   "metadata": {},
   "source": [
    "## Static typing"
   ]
  },
  {
   "cell_type": "code",
   "execution_count": 1,
   "id": "c81f4920",
   "metadata": {},
   "outputs": [
    {
     "name": "stdout",
     "output_type": "stream",
     "text": [
      "Umair\n"
     ]
    }
   ],
   "source": [
    "name = \"Umair\"\n",
    "print(name)"
   ]
  },
  {
   "cell_type": "code",
   "execution_count": 2,
   "id": "b1c1e73d",
   "metadata": {},
   "outputs": [
    {
     "data": {
      "text/plain": [
       "str"
      ]
     },
     "execution_count": 2,
     "metadata": {},
     "output_type": "execute_result"
    }
   ],
   "source": [
    "type(name)"
   ]
  },
  {
   "cell_type": "code",
   "execution_count": 3,
   "id": "163f6cf6",
   "metadata": {},
   "outputs": [],
   "source": [
    "name:str = \"Noman\""
   ]
  },
  {
   "cell_type": "code",
   "execution_count": 4,
   "id": "018bdc16",
   "metadata": {},
   "outputs": [
    {
     "data": {
      "text/plain": [
       "str"
      ]
     },
     "execution_count": 4,
     "metadata": {},
     "output_type": "execute_result"
    }
   ],
   "source": [
    "type(name)"
   ]
  },
  {
   "cell_type": "code",
   "execution_count": 5,
   "id": "c8b31722",
   "metadata": {},
   "outputs": [],
   "source": [
    "age:str = 16"
   ]
  },
  {
   "cell_type": "code",
   "execution_count": 6,
   "id": "ecd418ae",
   "metadata": {},
   "outputs": [
    {
     "data": {
      "text/plain": [
       "int"
      ]
     },
     "execution_count": 6,
     "metadata": {},
     "output_type": "execute_result"
    }
   ],
   "source": [
    "type(age)"
   ]
  },
  {
   "cell_type": "code",
   "execution_count": 7,
   "id": "9a69fa13",
   "metadata": {},
   "outputs": [],
   "source": [
    "age:str = \"16\""
   ]
  },
  {
   "cell_type": "code",
   "execution_count": 8,
   "id": "eb5e2297",
   "metadata": {},
   "outputs": [
    {
     "data": {
      "text/plain": [
       "str"
      ]
     },
     "execution_count": 8,
     "metadata": {},
     "output_type": "execute_result"
    }
   ],
   "source": [
    "type(age)"
   ]
  },
  {
   "cell_type": "code",
   "execution_count": 9,
   "id": "1d01db20",
   "metadata": {},
   "outputs": [
    {
     "name": "stdout",
     "output_type": "stream",
     "text": [
      "6.23\n"
     ]
    }
   ],
   "source": [
    "height:float = 6.23\n",
    "print(height)"
   ]
  },
  {
   "cell_type": "code",
   "execution_count": 10,
   "id": "7eb267d2",
   "metadata": {},
   "outputs": [
    {
     "name": "stdout",
     "output_type": "stream",
     "text": [
      "True\n"
     ]
    }
   ],
   "source": [
    "height:bool = True\n",
    "print(height)"
   ]
  },
  {
   "cell_type": "code",
   "execution_count": 11,
   "id": "2ff8c172",
   "metadata": {},
   "outputs": [],
   "source": [
    "from typing import Any"
   ]
  },
  {
   "cell_type": "code",
   "execution_count": 12,
   "id": "f1918926",
   "metadata": {},
   "outputs": [],
   "source": [
    "lst: list[any] = [1, 3, \"Umair\", True]"
   ]
  },
  {
   "cell_type": "code",
   "execution_count": 13,
   "id": "a3c9dda8",
   "metadata": {},
   "outputs": [
    {
     "data": {
      "text/plain": [
       "[1, 3, 'Umair', True]"
      ]
     },
     "execution_count": 13,
     "metadata": {},
     "output_type": "execute_result"
    }
   ],
   "source": [
    "lst"
   ]
  },
  {
   "cell_type": "code",
   "execution_count": 14,
   "id": "9c412954",
   "metadata": {},
   "outputs": [
    {
     "name": "stdout",
     "output_type": "stream",
     "text": [
      "['Noman', False]\n"
     ]
    }
   ],
   "source": [
    "lst: list[str, bool] = [\"Noman\", False]\n",
    "    \n",
    "print(lst)"
   ]
  },
  {
   "cell_type": "code",
   "execution_count": 15,
   "id": "c26c1293",
   "metadata": {},
   "outputs": [
    {
     "data": {
      "text/plain": [
       "list"
      ]
     },
     "execution_count": 15,
     "metadata": {},
     "output_type": "execute_result"
    }
   ],
   "source": [
    "type(lst)"
   ]
  },
  {
   "cell_type": "code",
   "execution_count": 16,
   "id": "6e5ecf7b",
   "metadata": {},
   "outputs": [
    {
     "name": "stdout",
     "output_type": "stream",
     "text": [
      "{'first_name': 'Umair', 'last_name': 'Nawaz', 'age': 16}\n"
     ]
    }
   ],
   "source": [
    "dictionary: dict[any] = {\"first_name\": \"Umair\", \"last_name\": \"Nawaz\", \"age\": 16}\n",
    "    \n",
    "print(dictionary)"
   ]
  },
  {
   "cell_type": "code",
   "execution_count": 17,
   "id": "d180a4b7",
   "metadata": {},
   "outputs": [
    {
     "data": {
      "text/plain": [
       "dict"
      ]
     },
     "execution_count": 17,
     "metadata": {},
     "output_type": "execute_result"
    }
   ],
   "source": [
    "type(dictionary)"
   ]
  },
  {
   "cell_type": "markdown",
   "id": "974951fe",
   "metadata": {},
   "source": [
    "### Union Typing"
   ]
  },
  {
   "cell_type": "code",
   "execution_count": 18,
   "id": "f6712a9e",
   "metadata": {},
   "outputs": [],
   "source": [
    "from typing import Union"
   ]
  },
  {
   "cell_type": "code",
   "execution_count": 19,
   "id": "99fba980",
   "metadata": {},
   "outputs": [],
   "source": [
    "#customer\n",
    "key = Union[int, str]\n",
    "value = Union[str, int, bool, list, dict, tuple]\n",
    "\n",
    "dictionary: dict[key:value] = {\"first_name\": \"Umair\", \"last_name\": \"Nawaz\", \"age\": 16}"
   ]
  },
  {
   "cell_type": "code",
   "execution_count": 2,
   "id": "01af10d8",
   "metadata": {},
   "outputs": [],
   "source": [
    "def data(fulName:str, age:int, maritalStatus:bool):\n",
    "    print(fulName, age, maritalStatus)"
   ]
  },
  {
   "cell_type": "code",
   "execution_count": 6,
   "id": "c843a7ee",
   "metadata": {},
   "outputs": [
    {
     "name": "stdout",
     "output_type": "stream",
     "text": [
      "Enter Your Name: Umair\n",
      "Enter Your Age: 16\n",
      "Marital Status (Ture/False): False\n",
      "Umair 16 False\n"
     ]
    }
   ],
   "source": [
    "fulName = input(str(\"Enter Your Name: \"))\n",
    "age = input(\"Enter Your Age: \")\n",
    "maritalStatus = input(\"Marital Status (Ture/False): \")\n",
    "\n",
    "data(fulName, age, maritalStatus)"
   ]
  },
  {
   "cell_type": "markdown",
   "id": "6d29d272",
   "metadata": {},
   "source": [
    "# TASK:\n",
    "\n",
    "1- create a class with name Parents\n",
    "<br>\n",
    "2- class should have constructor & its parameter should be name, father's name, mother's name & no of children\n",
    "<br>\n",
    "3- create two methods with name speaking, listening, mother tongue\n",
    "<br>\n",
    "4- create a method  that overwrite the value of no of siblings"
   ]
  },
  {
   "cell_type": "code",
   "execution_count": 40,
   "id": "181ebcd6",
   "metadata": {},
   "outputs": [],
   "source": [
    "# create a class with name Parents\n",
    "class parents:\n",
    "    def __init__(self, name, fathersName, mothersName, noOfChilds):\n",
    "        self.name = name\n",
    "        self.fathersName = fathersName\n",
    "        self.mothersName = mothersName\n",
    "        self.noOfChilds = noOfChilds\n",
    "    \n",
    "    def speaking(self):\n",
    "        print(self.name + \" is \" + \"Speaking\")\n",
    "        \n",
    "    def listening(self):\n",
    "        print(self.name + \" is \" + \"listening\")\n",
    "        \n",
    "    def motherTongue(self, language):\n",
    "        print(self.name + \" mother tongue is \" + language)\n",
    "        \n",
    "    def new_num_of_childs(self, new_no_of_childs):\n",
    "        self.noOfChilds = new_no_of_childs"
   ]
  },
  {
   "cell_type": "code",
   "execution_count": 41,
   "id": "0faf3aea",
   "metadata": {},
   "outputs": [],
   "source": [
    "myDetails = parents(\"Umair\", \"Nawaz\", \"Mother\", 2)"
   ]
  },
  {
   "cell_type": "code",
   "execution_count": 42,
   "id": "85c3d5b9",
   "metadata": {},
   "outputs": [
    {
     "data": {
      "text/plain": [
       "'Umair'"
      ]
     },
     "execution_count": 42,
     "metadata": {},
     "output_type": "execute_result"
    }
   ],
   "source": [
    "myDetails.name"
   ]
  },
  {
   "cell_type": "code",
   "execution_count": 43,
   "id": "55516d9c",
   "metadata": {},
   "outputs": [
    {
     "data": {
      "text/plain": [
       "'Nawaz'"
      ]
     },
     "execution_count": 43,
     "metadata": {},
     "output_type": "execute_result"
    }
   ],
   "source": [
    "myDetails.fathersName"
   ]
  },
  {
   "cell_type": "code",
   "execution_count": 44,
   "id": "6c9b3f7e",
   "metadata": {},
   "outputs": [
    {
     "data": {
      "text/plain": [
       "'Mother'"
      ]
     },
     "execution_count": 44,
     "metadata": {},
     "output_type": "execute_result"
    }
   ],
   "source": [
    "myDetails.mothersName"
   ]
  },
  {
   "cell_type": "code",
   "execution_count": 45,
   "id": "3964b53e",
   "metadata": {},
   "outputs": [
    {
     "data": {
      "text/plain": [
       "2"
      ]
     },
     "execution_count": 45,
     "metadata": {},
     "output_type": "execute_result"
    }
   ],
   "source": [
    "myDetails.noOfChilds"
   ]
  },
  {
   "cell_type": "code",
   "execution_count": 46,
   "id": "d4f5da8c",
   "metadata": {},
   "outputs": [
    {
     "name": "stdout",
     "output_type": "stream",
     "text": [
      "Umair is Speaking\n"
     ]
    }
   ],
   "source": [
    "myDetails.speaking()"
   ]
  },
  {
   "cell_type": "code",
   "execution_count": 47,
   "id": "f2599ee1",
   "metadata": {},
   "outputs": [
    {
     "name": "stdout",
     "output_type": "stream",
     "text": [
      "Umair is listening\n"
     ]
    }
   ],
   "source": [
    "myDetails.listening()"
   ]
  },
  {
   "cell_type": "code",
   "execution_count": 48,
   "id": "33fb25e1",
   "metadata": {},
   "outputs": [
    {
     "name": "stdout",
     "output_type": "stream",
     "text": [
      "Umair mother tongue is Urdu\n"
     ]
    }
   ],
   "source": [
    "myDetails.motherTongue('Urdu')"
   ]
  },
  {
   "cell_type": "code",
   "execution_count": 49,
   "id": "8ae037ea",
   "metadata": {},
   "outputs": [],
   "source": [
    "myDetails.new_num_of_childs(3)"
   ]
  },
  {
   "cell_type": "code",
   "execution_count": 53,
   "id": "efb04f39",
   "metadata": {},
   "outputs": [
    {
     "data": {
      "text/plain": [
       "3"
      ]
     },
     "execution_count": 53,
     "metadata": {},
     "output_type": "execute_result"
    }
   ],
   "source": [
    "myDetails.noOfChilds"
   ]
  },
  {
   "cell_type": "markdown",
   "id": "62f3eb9a",
   "metadata": {},
   "source": [
    "### Class Variables"
   ]
  },
  {
   "cell_type": "code",
   "execution_count": 55,
   "id": "9127c006",
   "metadata": {},
   "outputs": [],
   "source": [
    "class Parents():\n",
    "    object_increment = 0\n",
    "    result = \"A+\"\n",
    "    \n",
    "    def __init__(self, name, fathers_name, no_of_children):\n",
    "        self.name = name\n",
    "        self.fathers_name = fathers_name\n",
    "        self.no_of_children = no_of_children\n",
    "        self.mother_tongue = \"Urdu\"\n",
    "        Parents.object_increment += 1\n",
    "\n",
    "    def speaking(self):\n",
    "        print(f\"{self.name} is Speaking\")\n",
    "    \n",
    "    def listening(self):\n",
    "        print(f\"{self.name} is Listening\")\n",
    "    \n",
    "    def override_no_of_childs(self, num):\n",
    "        self.no_of_children = num"
   ]
  },
  {
   "cell_type": "code",
   "execution_count": 56,
   "id": "a7c93f96",
   "metadata": {},
   "outputs": [],
   "source": [
    "umair_parents = Parents(\"Umair\", \"Nawaz\", 3)"
   ]
  },
  {
   "cell_type": "code",
   "execution_count": 57,
   "id": "1b7c5244",
   "metadata": {},
   "outputs": [
    {
     "name": "stdout",
     "output_type": "stream",
     "text": [
      "1\n",
      "A+\n",
      "Umair\n",
      "Urdu\n"
     ]
    }
   ],
   "source": [
    "print(umair_parents.object_increment)\n",
    "print(umair_parents.result)\n",
    "print(umair_parents.name)\n",
    "print(umair_parents.mother_tongue)"
   ]
  },
  {
   "cell_type": "code",
   "execution_count": 59,
   "id": "64355c34",
   "metadata": {},
   "outputs": [],
   "source": [
    "noman_parents = Parents(\"Noman\", \"Nawaz\", 1)"
   ]
  },
  {
   "cell_type": "code",
   "execution_count": 61,
   "id": "a6cbdf13",
   "metadata": {},
   "outputs": [
    {
     "name": "stdout",
     "output_type": "stream",
     "text": [
      "2\n",
      "A+\n",
      "Noman\n",
      "Urdu\n"
     ]
    }
   ],
   "source": [
    "print(noman_parents.object_increment)\n",
    "print(noman_parents.result)\n",
    "print(noman_parents.name)\n",
    "print(noman_parents.mother_tongue)"
   ]
  }
 ],
 "metadata": {
  "kernelspec": {
   "display_name": "Python 3 (ipykernel)",
   "language": "python",
   "name": "python3"
  },
  "language_info": {
   "codemirror_mode": {
    "name": "ipython",
    "version": 3
   },
   "file_extension": ".py",
   "mimetype": "text/x-python",
   "name": "python",
   "nbconvert_exporter": "python",
   "pygments_lexer": "ipython3",
   "version": "3.11.5"
  }
 },
 "nbformat": 4,
 "nbformat_minor": 5
}
