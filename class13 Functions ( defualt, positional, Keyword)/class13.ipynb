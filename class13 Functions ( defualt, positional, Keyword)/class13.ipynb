{
 "cells": [
  {
   "cell_type": "markdown",
   "id": "ae2f80f1",
   "metadata": {},
   "source": [
    "### Functions within functions"
   ]
  },
  {
   "cell_type": "code",
   "execution_count": 1,
   "id": "a483e665",
   "metadata": {},
   "outputs": [],
   "source": [
    "def sub(num1, num2):\n",
    "    return num1 - num2\n",
    "def add(num1, num2):\n",
    "    return num1 + num2\n",
    "def calc(num1, num2):\n",
    "    print(sub(num1, num2))\n",
    "    print(add(num1, num2))"
   ]
  },
  {
   "cell_type": "code",
   "execution_count": 2,
   "id": "688c3341",
   "metadata": {},
   "outputs": [
    {
     "name": "stdout",
     "output_type": "stream",
     "text": [
      "2\n",
      "8\n"
     ]
    }
   ],
   "source": [
    "calc(5, 3)"
   ]
  },
  {
   "cell_type": "code",
   "execution_count": 4,
   "id": "36b65768",
   "metadata": {},
   "outputs": [],
   "source": [
    "def calc(num1, num2):\n",
    "    \n",
    "    def sub(num1, num2):\n",
    "        return num1 - num2\n",
    "    \n",
    "    def add(num1, num2):\n",
    "        return num1 + num2\n",
    "\n",
    "    print(sub(num1, num2))\n",
    "    print(add(num1, num2))"
   ]
  },
  {
   "cell_type": "code",
   "execution_count": 5,
   "id": "cf1c1791",
   "metadata": {},
   "outputs": [
    {
     "name": "stdout",
     "output_type": "stream",
     "text": [
      "3\n",
      "13\n"
     ]
    }
   ],
   "source": [
    "calc(8, 5)"
   ]
  },
  {
   "cell_type": "markdown",
   "id": "eda3eef2",
   "metadata": {},
   "source": [
    "### Working with Flexible Number of Arguments Using Single Sterisk '*'"
   ]
  },
  {
   "cell_type": "code",
   "execution_count": 6,
   "id": "9e75b745",
   "metadata": {},
   "outputs": [],
   "source": [
    "def add(num1, *nums):\n",
    "    print(num1)\n",
    "    print(nums)"
   ]
  },
  {
   "cell_type": "code",
   "execution_count": 7,
   "id": "95f394c4",
   "metadata": {},
   "outputs": [
    {
     "name": "stdout",
     "output_type": "stream",
     "text": [
      "2\n",
      "(4, 5, 6)\n"
     ]
    }
   ],
   "source": [
    "add(2, 4, 5, 6)"
   ]
  },
  {
   "cell_type": "code",
   "execution_count": 17,
   "id": "c2b6d174",
   "metadata": {},
   "outputs": [],
   "source": [
    "def add(num1, *nums):\n",
    "    print(num1)\n",
    "    print(*nums)"
   ]
  },
  {
   "cell_type": "code",
   "execution_count": 18,
   "id": "eceeddd8",
   "metadata": {},
   "outputs": [
    {
     "name": "stdout",
     "output_type": "stream",
     "text": [
      "2\n",
      "3 5 6\n"
     ]
    }
   ],
   "source": [
    "add(2, 3, 5, 6)"
   ]
  },
  {
   "cell_type": "code",
   "execution_count": 3,
   "id": "a0cfdd4a",
   "metadata": {},
   "outputs": [],
   "source": [
    "def add(num1, *nums):\n",
    "    print(num1)\n",
    "    print(*nums)\n",
    "    added = num1\n",
    "    for i in nums:\n",
    "        added += i\n",
    "        \n",
    "    return added"
   ]
  },
  {
   "cell_type": "code",
   "execution_count": 4,
   "id": "687fc0fa",
   "metadata": {},
   "outputs": [
    {
     "name": "stdout",
     "output_type": "stream",
     "text": [
      "2\n",
      "3 5 6\n"
     ]
    },
    {
     "data": {
      "text/plain": [
       "16"
      ]
     },
     "execution_count": 4,
     "metadata": {},
     "output_type": "execute_result"
    }
   ],
   "source": [
    "add(2, 3, 5, 6)"
   ]
  },
  {
   "cell_type": "markdown",
   "id": "eb778c8f",
   "metadata": {},
   "source": [
    "### Working with Flexible Number of Arguments Using  double sterisk '**'"
   ]
  },
  {
   "cell_type": "code",
   "execution_count": 36,
   "id": "aec7a68a",
   "metadata": {},
   "outputs": [],
   "source": [
    "def add(num1, num2, **nums):\n",
    "    print(num1)\n",
    "    print(num2)\n",
    "    print(nums)\n",
    "    added = num1 + num2\n",
    "    for key, value in nums.items():\n",
    "        added += value\n",
    "    print(added)"
   ]
  },
  {
   "cell_type": "code",
   "execution_count": 37,
   "id": "52d8ce01",
   "metadata": {},
   "outputs": [
    {
     "name": "stdout",
     "output_type": "stream",
     "text": [
      "2\n",
      "3\n",
      "{'num3': 5, 'num4': 6}\n",
      "16\n"
     ]
    }
   ],
   "source": [
    "add(2, 3, num3=5, num4=6)"
   ]
  }
 ],
 "metadata": {
  "kernelspec": {
   "display_name": "Python 3 (ipykernel)",
   "language": "python",
   "name": "python3"
  },
  "language_info": {
   "codemirror_mode": {
    "name": "ipython",
    "version": 3
   },
   "file_extension": ".py",
   "mimetype": "text/x-python",
   "name": "python",
   "nbconvert_exporter": "python",
   "pygments_lexer": "ipython3",
   "version": "3.11.5"
  }
 },
 "nbformat": 4,
 "nbformat_minor": 5
}
