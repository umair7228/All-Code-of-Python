{
 "cells": [
  {
   "cell_type": "markdown",
   "id": "e3beae08",
   "metadata": {},
   "source": [
    "#### del keyword"
   ]
  },
  {
   "cell_type": "code",
   "execution_count": 4,
   "id": "016b7907",
   "metadata": {},
   "outputs": [
    {
     "name": "stdout",
     "output_type": "stream",
     "text": [
      "Umair\n"
     ]
    }
   ],
   "source": [
    "class Students:\n",
    "    def __init__(self, name):\n",
    "        self.name = name\n",
    "        \n",
    "s1 = Students(\"Umair\")\n",
    "\n",
    "print(s1.name)"
   ]
  },
  {
   "cell_type": "code",
   "execution_count": 5,
   "id": "cca8a376",
   "metadata": {},
   "outputs": [],
   "source": [
    "del s1.name"
   ]
  },
  {
   "cell_type": "code",
   "execution_count": 8,
   "id": "db8138ff",
   "metadata": {},
   "outputs": [
    {
     "ename": "AttributeError",
     "evalue": "'Students' object has no attribute 'name'",
     "output_type": "error",
     "traceback": [
      "\u001b[1;31m---------------------------------------------------------------------------\u001b[0m",
      "\u001b[1;31mAttributeError\u001b[0m                            Traceback (most recent call last)",
      "Cell \u001b[1;32mIn[8], line 1\u001b[0m\n\u001b[1;32m----> 1\u001b[0m s1\u001b[38;5;241m.\u001b[39mname\n",
      "\u001b[1;31mAttributeError\u001b[0m: 'Students' object has no attribute 'name'"
     ]
    }
   ],
   "source": [
    "s1.name # It has deleted"
   ]
  },
  {
   "cell_type": "markdown",
   "id": "f94b7fcc",
   "metadata": {},
   "source": [
    "#### Private attributes and methods\n",
    "- Private attributes and methods are meant to be used only within the class and are not accessible from outside the class"
   ]
  },
  {
   "cell_type": "code",
   "execution_count": 10,
   "id": "467bbcde",
   "metadata": {},
   "outputs": [],
   "source": [
    "class Account:\n",
    "    def __init__(self, acc_no, acc_pass):\n",
    "        self.account_number = acc_no\n",
    "        self.account_password = acc_pass\n",
    "        \n",
    "acc1 = Account(12345, \"abcde\")"
   ]
  },
  {
   "cell_type": "code",
   "execution_count": 13,
   "id": "5c33db4d",
   "metadata": {},
   "outputs": [
    {
     "name": "stdout",
     "output_type": "stream",
     "text": [
      "12345\n",
      "abcde\n"
     ]
    }
   ],
   "source": [
    "print(acc1.account_number)\n",
    "print(acc1.account_password)"
   ]
  },
  {
   "cell_type": "code",
   "execution_count": 14,
   "id": "8b02ca3a",
   "metadata": {},
   "outputs": [],
   "source": [
    "# If I don't want to show my password so I can make it private by using double_underscore\n",
    "class Account:\n",
    "    def __init__(self, acc_no, acc_pass):\n",
    "        self.account_number = acc_no\n",
    "        self.__account_password = acc_pass # It has become private now\n",
    "        \n",
    "acc1 = Account(12345, \"abcde\")"
   ]
  },
  {
   "cell_type": "code",
   "execution_count": 15,
   "id": "3bf403ae",
   "metadata": {},
   "outputs": [
    {
     "name": "stdout",
     "output_type": "stream",
     "text": [
      "12345\n"
     ]
    },
    {
     "ename": "AttributeError",
     "evalue": "'Account' object has no attribute 'account_password'",
     "output_type": "error",
     "traceback": [
      "\u001b[1;31m---------------------------------------------------------------------------\u001b[0m",
      "\u001b[1;31mAttributeError\u001b[0m                            Traceback (most recent call last)",
      "Cell \u001b[1;32mIn[15], line 2\u001b[0m\n\u001b[0;32m      1\u001b[0m \u001b[38;5;28mprint\u001b[39m(acc1\u001b[38;5;241m.\u001b[39maccount_number)\n\u001b[1;32m----> 2\u001b[0m \u001b[38;5;28mprint\u001b[39m(acc1\u001b[38;5;241m.\u001b[39maccount_password)\n",
      "\u001b[1;31mAttributeError\u001b[0m: 'Account' object has no attribute 'account_password'"
     ]
    }
   ],
   "source": [
    "print(acc1.account_number)\n",
    "print(acc1.account_password) # it will show error because password is private"
   ]
  },
  {
   "cell_type": "code",
   "execution_count": 20,
   "id": "ab3ea0e7",
   "metadata": {
    "scrolled": true
   },
   "outputs": [
    {
     "name": "stdout",
     "output_type": "stream",
     "text": [
      "abcde\n",
      "None\n"
     ]
    }
   ],
   "source": [
    "# But I can access password by creating a new method\n",
    "class Account:\n",
    "    def __init__(self, acc_no, acc_pass):\n",
    "        self.account_number = acc_no\n",
    "        self.__account_password = acc_pass # It has become private now\n",
    "        \n",
    "    def password(self):\n",
    "        print(self.__account_password)\n",
    "        \n",
    "acc1 = Account(12345, \"abcde\")\n",
    "print(acc1.password()) # Now It will show me password"
   ]
  },
  {
   "cell_type": "markdown",
   "id": "498ff4e3",
   "metadata": {},
   "source": [
    "### Inheritance\n",
    "- When one class (chile/derived) derives the properties and methods of another class(parent/base)"
   ]
  },
  {
   "cell_type": "markdown",
   "id": "a09ac1ab",
   "metadata": {},
   "source": [
    "#### Single Ingeritance"
   ]
  },
  {
   "cell_type": "code",
   "execution_count": 28,
   "id": "74240d24",
   "metadata": {},
   "outputs": [],
   "source": [
    "class Car:\n",
    "    color = \"Black\"\n",
    "    @staticmethod\n",
    "    def start():\n",
    "        print(\"Car Started..\")\n",
    "        \n",
    "    @staticmethod\n",
    "    def stop():\n",
    "        print(\"Car Stoped..\")\n",
    "        \n",
    "class ToyotaCars(Car):\n",
    "    def __init__(self, name):\n",
    "        self.name = name\n",
    "        \n",
    "car1 = ToyotaCars(\"Supra\")\n",
    "car2 = ToyotaCars(\"Fortuner\")"
   ]
  },
  {
   "cell_type": "code",
   "execution_count": 25,
   "id": "439b284d",
   "metadata": {},
   "outputs": [
    {
     "name": "stdout",
     "output_type": "stream",
     "text": [
      "Supra\n"
     ]
    }
   ],
   "source": [
    "print(car1.name)"
   ]
  },
  {
   "cell_type": "code",
   "execution_count": 29,
   "id": "506b5110",
   "metadata": {},
   "outputs": [
    {
     "name": "stdout",
     "output_type": "stream",
     "text": [
      "Car Started..\n",
      "None\n",
      "Black\n"
     ]
    }
   ],
   "source": [
    "print(car2.start())\n",
    "print(car2.color)"
   ]
  },
  {
   "cell_type": "markdown",
   "id": "164638e3",
   "metadata": {},
   "source": [
    "#### Multi-level Inheritance"
   ]
  },
  {
   "cell_type": "code",
   "execution_count": 2,
   "id": "996fcbec",
   "metadata": {},
   "outputs": [],
   "source": [
    "class Base:\n",
    "    def __init__(self, name, gender, role):\n",
    "        self.name = name\n",
    "        self.gender = gender\n",
    "        self.role = role\n",
    "        \n",
    "class Intermediate(Base):\n",
    "    def __init__(self, name, age, gender, role):\n",
    "        super().__init__(name, gender, role)\n",
    "        self.age = age\n",
    "        \n",
    "class Derived(Intermediate):\n",
    "    def __init__(self, name, age, gender, role):\n",
    "        super().__init__(name, age, gender, role)\n",
    "        \n",
    "    def displayData(self):\n",
    "        print(f\"The Name is {self.name}\")\n",
    "        print(f\"The Age is {self.age}\")\n",
    "        print(f\"The Gender is {self.gender}\")\n",
    "        print(f\"The Role is {self.role}\")"
   ]
  },
  {
   "cell_type": "code",
   "execution_count": 3,
   "id": "0123afbb",
   "metadata": {},
   "outputs": [],
   "source": [
    "obj = Derived(\"Umair\", 16, \"Male\", \"Python Programmer\")"
   ]
  },
  {
   "cell_type": "code",
   "execution_count": 11,
   "id": "ec37801c",
   "metadata": {},
   "outputs": [
    {
     "name": "stdout",
     "output_type": "stream",
     "text": [
      "The Name is Umair\n",
      "The Age is 16\n",
      "The Gender is Male\n",
      "The Role is Python Programmer\n"
     ]
    }
   ],
   "source": [
    "obj.displayData()"
   ]
  },
  {
   "cell_type": "markdown",
   "id": "17734d45",
   "metadata": {},
   "source": [
    "#### Multiple Inheritance"
   ]
  },
  {
   "cell_type": "code",
   "execution_count": 18,
   "id": "80dcaf3c",
   "metadata": {},
   "outputs": [
    {
     "name": "stdout",
     "output_type": "stream",
     "text": [
      "In Class2\n"
     ]
    }
   ],
   "source": [
    "class Class1:\n",
    "    def m(self):\n",
    "        print(\"In Class1\")\n",
    "\n",
    "class Class2(Class1):\n",
    "    def m(self):\n",
    "        print(\"In Class2\")\n",
    "\n",
    "class Class3(Class1):\n",
    "    def p(self):\n",
    "        print(\"In Class3\")\n",
    "\n",
    "class Class4(Class2, Class3):\n",
    "    pass\n",
    "\n",
    "obj = Class4()\n",
    "obj.m()"
   ]
  },
  {
   "cell_type": "code",
   "execution_count": 19,
   "id": "4e4d4e4c",
   "metadata": {},
   "outputs": [
    {
     "name": "stdout",
     "output_type": "stream",
     "text": [
      "In Class3\n"
     ]
    }
   ],
   "source": [
    "obj.p()"
   ]
  },
  {
   "cell_type": "markdown",
   "id": "404d4fd0",
   "metadata": {},
   "source": [
    "##### Example 2"
   ]
  },
  {
   "cell_type": "code",
   "execution_count": 29,
   "id": "0057117a",
   "metadata": {},
   "outputs": [],
   "source": [
    "class Parent1:\n",
    "    @staticmethod\n",
    "    def method1():\n",
    "        print(\"First Parent Class\")\n",
    "\n",
    "class Parent2:\n",
    "    @staticmethod\n",
    "    def method2():\n",
    "        print(\"Second Parent Class\")\n",
    "\n",
    "class Child(Parent1, Parent2):\n",
    "    def method3(self):\n",
    "        print(\"Child Class\")"
   ]
  },
  {
   "cell_type": "code",
   "execution_count": 30,
   "id": "cfbbd858",
   "metadata": {},
   "outputs": [],
   "source": [
    "obj = Child()"
   ]
  },
  {
   "cell_type": "code",
   "execution_count": 31,
   "id": "bda22ca4",
   "metadata": {},
   "outputs": [
    {
     "name": "stdout",
     "output_type": "stream",
     "text": [
      "First Parent Class\n"
     ]
    }
   ],
   "source": [
    "obj.method1()"
   ]
  },
  {
   "cell_type": "code",
   "execution_count": 32,
   "id": "6058b104",
   "metadata": {},
   "outputs": [
    {
     "name": "stdout",
     "output_type": "stream",
     "text": [
      "Second Parent Class\n"
     ]
    }
   ],
   "source": [
    "obj.method2()"
   ]
  },
  {
   "cell_type": "code",
   "execution_count": 33,
   "id": "aa4bbb42",
   "metadata": {},
   "outputs": [
    {
     "name": "stdout",
     "output_type": "stream",
     "text": [
      "Child Class\n"
     ]
    }
   ],
   "source": [
    "obj.method3()"
   ]
  },
  {
   "cell_type": "markdown",
   "id": "a28838f2",
   "metadata": {},
   "source": [
    "##### @classmethod and Changing in class variable\n",
    "\n",
    "- A classmethod is bound to the class and receives the class as an implicit first argument.\n",
    "- Note: staticmethod cann't access or modify class state and generally for utility"
   ]
  },
  {
   "cell_type": "code",
   "execution_count": 54,
   "id": "56c22a6a",
   "metadata": {},
   "outputs": [],
   "source": [
    "# I can change the class variable by changing in a method using classmethod\n",
    "class Person:\n",
    "    name = \"Umair\"\n",
    "    \n",
    "    @classmethod\n",
    "    def changName(cls, name):\n",
    "        cls.name = name"
   ]
  },
  {
   "cell_type": "code",
   "execution_count": 57,
   "id": "b1b7afcc",
   "metadata": {},
   "outputs": [],
   "source": [
    "obj = Person()\n",
    "obj.changName(\"Salman\")"
   ]
  },
  {
   "cell_type": "code",
   "execution_count": 62,
   "id": "bb00b6f2",
   "metadata": {},
   "outputs": [
    {
     "data": {
      "text/plain": [
       "'Salman'"
      ]
     },
     "execution_count": 62,
     "metadata": {},
     "output_type": "execute_result"
    }
   ],
   "source": [
    "obj.name"
   ]
  },
  {
   "cell_type": "code",
   "execution_count": 63,
   "id": "9b7aab11",
   "metadata": {},
   "outputs": [
    {
     "data": {
      "text/plain": [
       "'Salman'"
      ]
     },
     "execution_count": 63,
     "metadata": {},
     "output_type": "execute_result"
    }
   ],
   "source": [
    "Person.name"
   ]
  },
  {
   "cell_type": "markdown",
   "id": "09c4be7f",
   "metadata": {},
   "source": [
    "##### @property decorator\n",
    "- We use @property decorator on any method in the class to use the method as a property"
   ]
  },
  {
   "cell_type": "code",
   "execution_count": 68,
   "id": "6f91d761",
   "metadata": {},
   "outputs": [
    {
     "data": {
      "text/plain": [
       "'93.0%'"
      ]
     },
     "execution_count": 68,
     "metadata": {},
     "output_type": "execute_result"
    }
   ],
   "source": [
    "class Student:\n",
    "    \n",
    "    def __init__(self, chem, math, phy):\n",
    "        self.chem = chem\n",
    "        self.math = math\n",
    "        self.phy = phy\n",
    "        self.percentage = str((self.chem + self.math + self.phy) /3) + \"%\"\n",
    "        \n",
    "stu1 = Student(96, 94, 89)\n",
    "stu1.percentage"
   ]
  },
  {
   "cell_type": "code",
   "execution_count": 80,
   "id": "4152eca6",
   "metadata": {},
   "outputs": [
    {
     "name": "stdout",
     "output_type": "stream",
     "text": [
      "76\n",
      "93.0%\n"
     ]
    }
   ],
   "source": [
    "# Now If I want to change number of physics so\n",
    "stu1.phy = '76'\n",
    "print(stu1.phy) # It will be changed but it will not update the percentage directly\n",
    "print(stu1.percentage) # we will have to code again for calculating the percentage but we can calculate it directly\n",
    "# by using @property decorator"
   ]
  },
  {
   "cell_type": "code",
   "execution_count": 99,
   "id": "c42c2571",
   "metadata": {},
   "outputs": [
    {
     "name": "stdout",
     "output_type": "stream",
     "text": [
      "93.0%\n"
     ]
    }
   ],
   "source": [
    "class Student:\n",
    "    \n",
    "    def __init__(self, chem, math, phy):\n",
    "        self.chem = chem\n",
    "        self.math = math\n",
    "        self.phy = phy\n",
    "     \n",
    "    @property\n",
    "    def percentage(self):\n",
    "        return str((self.chem + self.math + self.phy) /3) + \"%\"\n",
    "        \n",
    "stu2 = Student(96, 94, 89)\n",
    "print(stu2.percentage)"
   ]
  },
  {
   "cell_type": "code",
   "execution_count": 102,
   "id": "7ae12f08",
   "metadata": {},
   "outputs": [
    {
     "name": "stdout",
     "output_type": "stream",
     "text": [
      "76\n",
      "88.66666666666667%\n"
     ]
    }
   ],
   "source": [
    "stu2.phy = 76\n",
    "print(stu2.phy)\n",
    "print(stu2.percentage) # Now Percentage has directly changed"
   ]
  }
 ],
 "metadata": {
  "kernelspec": {
   "display_name": "Python 3 (ipykernel)",
   "language": "python",
   "name": "python3"
  },
  "language_info": {
   "codemirror_mode": {
    "name": "ipython",
    "version": 3
   },
   "file_extension": ".py",
   "mimetype": "text/x-python",
   "name": "python",
   "nbconvert_exporter": "python",
   "pygments_lexer": "ipython3",
   "version": "3.11.5"
  }
 },
 "nbformat": 4,
 "nbformat_minor": 5
}
