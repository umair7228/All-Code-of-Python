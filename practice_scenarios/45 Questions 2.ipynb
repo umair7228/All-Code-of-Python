{
 "cells": [
  {
   "cell_type": "markdown",
   "id": "1a33138e",
   "metadata": {},
   "source": [
    "11) Seeing the World: Think of at least five places in the world you’d like to visit.\n",
    "- Store the locations in a list. Make sure the list is not in alphabetical order.\n",
    "\n",
    "- Print your list in its original order.\n",
    "\n",
    "- Print your list in alphabetical order without modifying the actual list.\n",
    "\n",
    "- Show that your list is still in its original order by printing it.\n",
    "\n",
    "- Print your list in reverse alphabetical order without changing the order of the original list.\n",
    "\n",
    "- Show that your list is still in its original order by printing it again."
   ]
  },
  {
   "cell_type": "code",
   "execution_count": 12,
   "id": "2de41aa9",
   "metadata": {
    "scrolled": true
   },
   "outputs": [
    {
     "name": "stdout",
     "output_type": "stream",
     "text": [
      "Original order:\n",
      "['Japan', 'Italy', 'Australia', 'Dubai', 'Egypt']\n",
      "\n",
      "Alphabetical order (without modifying the original list):\n",
      "['Australia', 'Dubai', 'Egypt', 'Italy', 'Japan']\n",
      "\n",
      "list is still in its original order\n",
      "['Japan', 'Italy', 'Australia', 'Dubai', 'Egypt']\n",
      "\n",
      "list in reverse alphabetical order\n",
      "['Japan', 'Italy', 'Egypt', 'Dubai', 'Australia']\n",
      "\n",
      "list is still in its original order\n",
      "['Japan', 'Italy', 'Australia', 'Dubai', 'Egypt']\n"
     ]
    }
   ],
   "source": [
    "# Store locations\n",
    "places_to_visit = [\"Japan\", \"Italy\", \"Australia\", \"Dubai\", \"Egypt\"]\n",
    "\n",
    "# Print the list in its original order\n",
    "print(\"Original order:\")\n",
    "print(places_to_visit)\n",
    "\n",
    "# Print the list in alphabetical order without modifying the actual list\n",
    "print(\"\\nAlphabetical order (without modifying the original list):\")\n",
    "print(sorted(places_to_visit))\n",
    "\n",
    "# Show that your list is still in its original order\n",
    "print(\"\\nlist is still in its original order\")\n",
    "print(places_to_visit)\n",
    "\n",
    "# list in reverse alphabetical order without changing the original order\n",
    "print(\"\\nlist in reverse alphabetical order\")\n",
    "print(sorted(places_to_visit, reverse=True))\n",
    "\n",
    "# Show that your list is still in its original order\n",
    "print(\"\\nlist is still in its original order\")\n",
    "print(places_to_visit)"
   ]
  },
  {
   "cell_type": "markdown",
   "id": "b06adb89",
   "metadata": {},
   "source": [
    "12) They think of something you could store in a python Object. Write a program that creates Objects containing these items"
   ]
  },
  {
   "cell_type": "code",
   "execution_count": 33,
   "id": "bf967bb7",
   "metadata": {},
   "outputs": [],
   "source": [
    "class Car:\n",
    "    def __init__(self, brand, model, year, color, price):\n",
    "        self.brand = brand\n",
    "        self.model = model\n",
    "        self.year = year\n",
    "        self.color = color\n",
    "        self.price = price\n",
    "\n",
    "    def __str__(self):\n",
    "        return f\"Brand: {self.brand}, Model: {self.model}, Year: {self.year}, Color: {self.color}, Price: {self.price}\""
   ]
  },
  {
   "cell_type": "code",
   "execution_count": 34,
   "id": "68fd35ae",
   "metadata": {},
   "outputs": [
    {
     "name": "stdout",
     "output_type": "stream",
     "text": [
      "Information about each car:\n",
      "Brand: Toyota, Model: Corolla, Year: 2022, Color: Blue, Price: 200000\n",
      "Brand: Honda, Model: Civic, Year: 2021, Color: Red, Price: 220000\n",
      "Brand: Ford, Model: Mustang, Year: 2020, Color: Yellow, Price: 350000\n"
     ]
    }
   ],
   "source": [
    "car1 = Car(\"Toyota\", \"Corolla\", 2022, \"Blue\", 200000)\n",
    "car2 = Car(\"Honda\", \"Civic\", 2021, \"Red\", 220000)\n",
    "car3 = Car(\"Ford\", \"Mustang\", 2020, \"Yellow\", 350000)\n",
    "\n",
    "print(\"Information about each car:\")\n",
    "print(car1)\n",
    "print(car2)\n",
    "print(car3)"
   ]
  },
  {
   "cell_type": "markdown",
   "id": "3c995e57",
   "metadata": {},
   "source": [
    "13) Intentional Error: If you haven’t received an array index error in one of your programs yet, try to make one happen. Change an index in one of your programs to produce an index error. Make sure you correct the error before closing the program."
   ]
  },
  {
   "cell_type": "code",
   "execution_count": 38,
   "id": "cdc37335",
   "metadata": {},
   "outputs": [
    {
     "name": "stdout",
     "output_type": "stream",
     "text": [
      "Index Error: list index out of range\n",
      "3\n"
     ]
    }
   ],
   "source": [
    "numbers = [1, 2, 3, 4, 5]\n",
    "\n",
    "# Try to access an index that is out of range\n",
    "try:\n",
    "    print(numbers[8]) #Accessing a number which is out of range\n",
    "except IndexError as e:\n",
    "    print(\"Index Error:\", e)\n",
    "    \n",
    "print(numbers[2])"
   ]
  },
  {
   "cell_type": "markdown",
   "id": "6215c15a",
   "metadata": {},
   "source": [
    "14) Conditional Tests: Write a series of conditional tests. Print a statement describing each test and your prediction for the results of each test. Your code should look something like this:\n",
    "\n",
    "- let car = 'Bugatti';\n",
    "\n",
    "- print(\"Is car == 'Bugatti'? I predict True.\")\n",
    "\n",
    "- print(car == 'Bugatti')\n",
    "\n",
    "- Look closely at your results, and make sure you understand why each line evaluates to True or False.\n",
    "\n",
    "- Create at least 10 tests. Have at least 5 tests evaluate to True and another 5 tests evaluate to False."
   ]
  },
  {
   "cell_type": "code",
   "execution_count": 43,
   "id": "ebdc67e7",
   "metadata": {},
   "outputs": [
    {
     "name": "stdout",
     "output_type": "stream",
     "text": [
      "Is car == 'Bugatti'? I predict True.\n",
      "True\n",
      "\n",
      "Is car == 'toyota'? I predict False.\n",
      "False\n",
      "\n",
      "Is car != 'Bugatti'? I predict False.\n",
      "False\n",
      "\n",
      "Is car.lower() == 'subaru'? I predict True.\n",
      "True\n",
      "\n",
      "Is car.upper() == 'SUBARU'? I predict False.\n",
      "True\n",
      "\n",
      "Is len(car) == 6? I predict True.\n",
      "True\n",
      "\n",
      "Is len(car) != 7? I predict True.\n",
      "True\n",
      "\n",
      "Is 'u' in car? I predict True.\n",
      "True\n",
      "\n",
      "Is 't' not in car? I predict True.\n",
      "False\n",
      "\n",
      "Is car.startswith('Sug')? I predict True.\n",
      "False\n"
     ]
    }
   ],
   "source": [
    "# Define a variable\n",
    "car = 'Bugatti'\n",
    "\n",
    "# Test 1\n",
    "print(\"Is car == 'Bugatti'? I predict True.\")\n",
    "print(car == 'Bugatti')\n",
    "\n",
    "# Test 2\n",
    "print(\"\\nIs car == 'toyota'? I predict False.\")\n",
    "print(car == 'toyota')\n",
    "\n",
    "# Test 3\n",
    "print(\"\\nIs car != 'Bugatti'? I predict False.\")\n",
    "print(car != 'Bugatti')\n",
    "\n",
    "# Test 4\n",
    "print(\"\\nIs car.lower() == 'subaru'? I predict True.\")\n",
    "print(car.lower() == 'bugatti')\n",
    "\n",
    "# Test 5\n",
    "print(\"\\nIs car.upper() == 'SUBARU'? I predict False.\")\n",
    "print(car.upper() == 'BUGATTI')\n",
    "\n",
    "# Test 6\n",
    "print(\"\\nIs len(car) == 6? I predict True.\")\n",
    "print(len(car) == 7)\n",
    "\n",
    "# Test 7\n",
    "print(\"\\nIs len(car) != 7? I predict True.\")\n",
    "print(len(car) != 9)\n",
    "\n",
    "# Test 8\n",
    "print(\"\\nIs 'u' in car? I predict True.\")\n",
    "print('u' in car)\n",
    "\n",
    "# Test 9\n",
    "print(\"\\nIs 't' not in car? I predict True.\")\n",
    "print('t' not in car)\n",
    "\n",
    "# Test 10\n",
    "print(\"\\nIs car.startswith('Sug')? I predict True.\")\n",
    "print(car.startswith('Sug'))"
   ]
  },
  {
   "cell_type": "markdown",
   "id": "2c0f9142",
   "metadata": {},
   "source": [
    "15) Alien Colors #1: Imagine an alien was just shot down in a game. Create a variable called alien_color and assign it a value of 'green', 'yellow', or 'red'.\n",
    "- Write an if statement to test whether the alien’s color is green. If it is, print a message that the player just earned 5 points.\n",
    "\n",
    "- Write one version of this program that passes the if test and another that fails. (The version that fails will have no output.)"
   ]
  },
  {
   "cell_type": "code",
   "execution_count": 44,
   "id": "e2d75aaf",
   "metadata": {},
   "outputs": [
    {
     "name": "stdout",
     "output_type": "stream",
     "text": [
      "Congratulations! You just earned 5 points.\n"
     ]
    }
   ],
   "source": [
    "alien_color = \"green\"\n",
    "\n",
    "if alien_color == \"green\":\n",
    "    print(\"Congratulations! You just earned 5 points.\")"
   ]
  },
  {
   "cell_type": "code",
   "execution_count": 45,
   "id": "74c57d07",
   "metadata": {},
   "outputs": [],
   "source": [
    "alien_color = 'yellow'\n",
    "\n",
    "# Check if the alien's color is green\n",
    "if alien_color == 'green':\n",
    "    print(\"Congratulations! You just earned 5 points.\")"
   ]
  },
  {
   "cell_type": "markdown",
   "id": "a1692651",
   "metadata": {},
   "source": [
    "16) Alien Colors #2: Choose a color for an alien as you did in Exercise 15, and write an if-else chain.\n",
    "- If the alien’s color is green, print a statement that the player just earned 5 points for shooting the alien.\n",
    "\n",
    "- If the alien is yellow, print a message that the player earned 10 points.\n",
    "\n",
    "- If the alien is red, print a message that the player earned 15 points.\n",
    "\n",
    "- Write three versions of this program, making sure each message is printed for the appropriate color alien."
   ]
  },
  {
   "cell_type": "code",
   "execution_count": 47,
   "id": "241aded1",
   "metadata": {},
   "outputs": [
    {
     "name": "stdout",
     "output_type": "stream",
     "text": [
      "Congratulations! You just earned 10 points.\n"
     ]
    }
   ],
   "source": [
    "alien_color = 'yellow'\n",
    "\n",
    "if alien_color == \"green\":\n",
    "    print(\"Congratulations! You just earned 5 points.\")\n",
    "elif alien_color == \"yellow\" :\n",
    "    print(\"Congratulations! You just earned 10 points.\")\n",
    "else:\n",
    "    print(\"Congratulations! You just earned 15 points.\")"
   ]
  },
  {
   "cell_type": "markdown",
   "id": "9dde4a2f",
   "metadata": {},
   "source": [
    "17) Stages of Life: Write an if-else chain that determines a person’s stage of life. Take input-value for the variable age, and then:\n",
    "- If the person is less than 2 years old, print a message that the person is a baby.\n",
    "\n",
    "- If the person is at least 2 years old but less than 4, print a message that the person is a toddler.\n",
    "\n",
    "- If the person is at least 4 years old but less than 13, print a message that the person is a kid.\n",
    "\n",
    "- If the person is at least 13 years old but less than 20, print a message that the person is a teenager.\n",
    "\n",
    "- If the person is at least 20 years old but less than 65, print a message that the person is an adult.\n",
    "\n",
    "- If the person is age 65 or older, print a message that the person is an elder."
   ]
  },
  {
   "cell_type": "code",
   "execution_count": 49,
   "id": "d42b4f8f",
   "metadata": {},
   "outputs": [
    {
     "name": "stdout",
     "output_type": "stream",
     "text": [
      "Enter Age: 70\n",
      "Person is a elder.\n"
     ]
    }
   ],
   "source": [
    "age = int(input(\"Enter Age: \"))\n",
    "\n",
    "if age < 2:\n",
    "    print(\"Person is a baby.\")\n",
    "elif age == 2 and age < 4:\n",
    "    print(\"Person is a toddler.\")\n",
    "elif age == 4 and age < 13:\n",
    "    print(\"Person is a kid.\")\n",
    "elif age == 13 and age < 20:\n",
    "    print(\"Person is a teenager.\")\n",
    "elif age == 20 and age < 65:\n",
    "    print(\"Person is a adult.\")\n",
    "elif age >=65:\n",
    "    print(\"Person is a elder.\")"
   ]
  },
  {
   "cell_type": "markdown",
   "id": "ac0460bd",
   "metadata": {},
   "source": [
    "18) Hello Admin: Make a array of five or more usernames, including the name 'admin'. Imagine you are writing code that will print a greeting to each user after they log in to a website. Loop through the array, and print a greeting to each user:\n",
    "- If the username is 'admin', print a special greeting, such as Hello admin, would you like to see a status report?\n",
    "\n",
    "- Otherwise, print a generic greeting, such as Hello Eric, thank you for logging in again."
   ]
  },
  {
   "cell_type": "code",
   "execution_count": 51,
   "id": "3bab66ce",
   "metadata": {},
   "outputs": [
    {
     "name": "stdout",
     "output_type": "stream",
     "text": [
      "Hellow admin, Would you like to see a status report.\n",
      "Hellow Umair, thank you for logging in again.\n",
      "Hellow Salman, thank you for logging in again.\n",
      "Hellow Noman, thank you for logging in again.\n"
     ]
    }
   ],
   "source": [
    "usernames = [\"admin\", \"umair\", \"salman\", \"noman\"]\n",
    "\n",
    "for username in usernames:\n",
    "    if username == \"admin\":\n",
    "        print(\"Hellow admin, Would you like to see a status report.\")\n",
    "    else:\n",
    "        print(f\"Hellow {username.title()}, thank you for logging in again.\")"
   ]
  }
 ],
 "metadata": {
  "kernelspec": {
   "display_name": "Python 3 (ipykernel)",
   "language": "python",
   "name": "python3"
  },
  "language_info": {
   "codemirror_mode": {
    "name": "ipython",
    "version": 3
   },
   "file_extension": ".py",
   "mimetype": "text/x-python",
   "name": "python",
   "nbconvert_exporter": "python",
   "pygments_lexer": "ipython3",
   "version": "3.11.5"
  }
 },
 "nbformat": 4,
 "nbformat_minor": 5
}
