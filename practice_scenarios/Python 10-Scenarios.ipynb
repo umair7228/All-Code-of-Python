{
  "metadata": {
    "kernelspec": {
      "name": "python",
      "display_name": "Python (Pyodide)",
      "language": "python"
    },
    "language_info": {
      "codemirror_mode": {
        "name": "python",
        "version": 3
      },
      "file_extension": ".py",
      "mimetype": "text/x-python",
      "name": "python",
      "nbconvert_exporter": "python",
      "pygments_lexer": "ipython3",
      "version": "3.8"
    }
  },
  "nbformat_minor": 5,
  "nbformat": 4,
  "cells": [
    {
      "id": "f6753332-2902-472b-bfcd-65b26d05bfae",
      "cell_type": "markdown",
      "source": "1) Name Cases: Store a person’s name in a variable, and then print that person’s name in lowercase and uppercase.",
      "metadata": {}
    },
    {
      "id": "e5da4a0d",
      "cell_type": "code",
      "source": "name = 'Umair'",
      "metadata": {},
      "outputs": [],
      "execution_count": 2
    },
    {
      "id": "7d8022b7",
      "cell_type": "code",
      "source": "name.lower()",
      "metadata": {},
      "outputs": [
        {
          "data": {
            "text/plain": [
              "'umair'"
            ]
          },
          "execution_count": 4,
          "metadata": {},
          "output_type": "execute_result"
        }
      ],
      "execution_count": 4
    },
    {
      "id": "bb94b519",
      "cell_type": "code",
      "source": "name.upper()",
      "metadata": {},
      "outputs": [
        {
          "data": {
            "text/plain": [
              "'UMAIR'"
            ]
          },
          "execution_count": 5,
          "metadata": {},
          "output_type": "execute_result"
        }
      ],
      "execution_count": 5
    },
    {
      "id": "ad495edd-1852-4686-8cd5-5a937d326cfb",
      "cell_type": "markdown",
      "source": "2) Famous Quote: Find a quote from a famous person you admire. Print the quote and the name of its author. Your output should look something like the following, including the quotation marks:\n\nAlbert Einstein once said, “A person who never made a mistake never tried anything new.”",
      "metadata": {}
    },
    {
      "id": "baf63b97",
      "cell_type": "code",
      "source": "author = 'Allama Iqbal'\nquote = \"Why should I waste my life in lamenting my fate? The answer to my complaint lies within me.\"",
      "metadata": {},
      "outputs": [],
      "execution_count": 6
    },
    {
      "id": "fee396c2",
      "cell_type": "code",
      "source": "print(f'{author} once said, \"{quote}\"')",
      "metadata": {},
      "outputs": [
        {
          "name": "stdout",
          "output_type": "stream",
          "text": [
            "Allama Iqbal once said, \"Why should I waste my life in lamenting my fate? The answer to my complaint lies within me.\"\n"
          ]
        }
      ],
      "execution_count": 9
    },
    {
      "id": "14b164a8-00ca-4b75-8892-92efa62b9468",
      "cell_type": "markdown",
      "source": "3) Stripping Names: Store a person’s name, and include some whitespace characters at the beginning and end of the name. Print the name once, so the whitespace around the name is displayed. Then print the name after striping the white spaces.",
      "metadata": {}
    },
    {
      "id": "3b0a693f",
      "cell_type": "code",
      "source": "name = '   Umair  '\nprint(name)\nprint(name.strip())",
      "metadata": {},
      "outputs": [
        {
          "name": "stdout",
          "output_type": "stream",
          "text": [
            "   Umair  \n",
            "Umair\n"
          ]
        }
      ],
      "execution_count": 13
    },
    {
      "id": "ac7b207a-9661-450b-b172-1a0f655f2de8",
      "cell_type": "markdown",
      "source": "4) Number Eight: Write addition, subtraction, multiplication, and division operations that each result in the number 8. Be sure to enclose your operations in print statements to see the results.",
      "metadata": {}
    },
    {
      "id": "7237044e",
      "cell_type": "code",
      "source": "add = 4+4\nprint(add)\n\nsub = 12-4\nprint(sub)\n\nmultiply = 2*4\nprint(multiply)\n\ndivide = 16/2\nprint(divide)",
      "metadata": {},
      "outputs": [
        {
          "name": "stdout",
          "output_type": "stream",
          "text": [
            "8\n",
            "8\n",
            "8\n",
            "8.0\n"
          ]
        }
      ],
      "execution_count": 16
    },
    {
      "id": "daa11cb7-2869-4829-9db8-d92b7140b412",
      "cell_type": "markdown",
      "source": "5) Names: Store the names of a few of your friends in a list called names. Print each person’s name by accessing each element in the list, one at a time.",
      "metadata": {}
    },
    {
      "id": "420e6349",
      "cell_type": "code",
      "source": "names = ['Umair', 'Salman', 'Noman', 'Arsalan']\n\nfor name in names:\n    print(name)",
      "metadata": {},
      "outputs": [
        {
          "name": "stdout",
          "output_type": "stream",
          "text": [
            "Umair\n",
            "Salman\n",
            "Noman\n",
            "Arsalan\n"
          ]
        }
      ],
      "execution_count": 17
    },
    {
      "id": "d6a36331-cc6d-4ebd-9f88-66683698f145",
      "cell_type": "markdown",
      "source": "6) Start with the list you used in Exercise 5, but instead of just printing each person’s name, print a message to them. The text of each message should be the same, but each message should be personalized with the person’s name.\n\nYour Own list: Think of your favorite mode of transportation, such as a motorcycle or a car, and make a list that stores several examples. Use your list to print a series of statements about these items, such as “I would like to own a Honda motorcycle",
      "metadata": {}
    },
    {
      "id": "bcd349fb",
      "cell_type": "code",
      "source": "names = ['Umair', 'Salman', 'Noman', 'Arsalan']\n\nfor name in names:\n    print(f'Hellow {name}, just wanted to say hellow.')\n    \n\ncars = [\"Honda Civic\", \"Toyota Camry\", \"Ford Mustang\", \"BMW M5\", \"Tesla Model S\"]\n\nfor car in cars:\n    print(f\"I would like to own a {car}.\")\n",
      "metadata": {},
      "outputs": [
        {
          "name": "stdout",
          "output_type": "stream",
          "text": [
            "Hellow Umair, just wanted to say hellow.\n",
            "Hellow Salman, just wanted to say hellow.\n",
            "Hellow Noman, just wanted to say hellow.\n",
            "Hellow Arsalan, just wanted to say hellow.\n",
            "I would like to own a Honda Civic.\n",
            "I would like to own a Toyota Camry.\n",
            "I would like to own a Ford Mustang.\n",
            "I would like to own a BMW M5.\n",
            "I would like to own a Tesla Model S.\n"
          ]
        }
      ],
      "execution_count": 25
    },
    {
      "id": "96b0dc23-a518-4afd-a3af-b133471c9a64",
      "cell_type": "markdown",
      "source": "7) Guest List: If you could invite anyone, living or deceased, to dinner, who would you invite? Make a list that includes at least three people you’d like to invite to dinner. Then use your list to print a message to each person, inviting them to dinner.",
      "metadata": {}
    },
    {
      "id": "0d4c9d50",
      "cell_type": "code",
      "source": "guests = ['Sir Zia', 'Sir Isfahan Ahmad', 'Sir Qasim Hassan']\n\nfor guest in guests:\n    print(f'Dear {guest},\\nI would like to invite you to dinner. It would be an honor to have your presence.')",
      "metadata": {},
      "outputs": [
        {
          "name": "stdout",
          "output_type": "stream",
          "text": [
            "Dear Sir Zia,\n",
            "I would like to invite you to dinner. It would be an honor to have your presence.\n",
            "Dear Sir Isfahan Ahmad,\n",
            "I would like to invite you to dinner. It would be an honor to have your presence.\n",
            "Dear Sir Qasim Hassan,\n",
            "I would like to invite you to dinner. It would be an honor to have your presence.\n"
          ]
        }
      ],
      "execution_count": 80
    },
    {
      "id": "dbacd40a-1bc5-408f-9346-ee87d11df325",
      "cell_type": "markdown",
      "source": "8) Changing Guest List: You just heard that one of your guests can’t make the dinner, so you need to send out a new set of invitations. You’ll have to think of someone else to invite.\n\n• Start with your program from Exercise 7. Add a print statement at the end of your program stating the name of the guest who can’t make it.\n\n• Modify your list, replacing the name of the guest who can’t make it with the name of the new person you are inviting.\n\n• Print a second set of invitation messages, one for each person who is still in your list.",
      "metadata": {}
    },
    {
      "id": "0053c5a1",
      "cell_type": "code",
      "source": "guests = ['Sir Zia', 'Sir Isfahan Ahmad', 'Sir Qasim Hassan']\n\nguest_cant_make_dinner = guests.pop(0)\nprint(f'Unfortuantly, {guest_cant_make_dinner} cant make it to dinner')",
      "metadata": {},
      "outputs": [
        {
          "name": "stdout",
          "output_type": "stream",
          "text": [
            "Unfortuantly, Sir Zia cant make it to dinner\n"
          ]
        }
      ],
      "execution_count": 81
    },
    {
      "id": "7dac3b4d",
      "cell_type": "code",
      "source": "new_guest = 'Sir Danial'\n\nguests.insert(0, new_guest)",
      "metadata": {},
      "outputs": [],
      "execution_count": 82
    },
    {
      "id": "f72c21f0",
      "cell_type": "code",
      "source": "for guest in guests:\n    print(f'Dear {guest}, \\nI would like to invite you to dinner. It would be an honor to have your presence.')",
      "metadata": {},
      "outputs": [
        {
          "name": "stdout",
          "output_type": "stream",
          "text": [
            "Dear Sir Danial, \n",
            "I would like to invite you to dinner. It would be an honor to have your presence.\n",
            "Dear Sir Isfahan Ahmad, \n",
            "I would like to invite you to dinner. It would be an honor to have your presence.\n",
            "Dear Sir Qasim Hassan, \n",
            "I would like to invite you to dinner. It would be an honor to have your presence.\n"
          ]
        }
      ],
      "execution_count": 83
    },
    {
      "id": "c8a33486-9c86-454d-8d6a-a81392edf3fa",
      "cell_type": "markdown",
      "source": "9) More Guests: You just found a bigger dinner table, so now more space is available. Think of three more guests to invite to dinner.\n• Start with your program from Exercise 8. Add a print statement to the end of your program informing people that you found a bigger dinner table.\n\n• Add one new guest to the beginning of your array.\n\n• Add one new guest to the middle of your array. • Use append() to add one new guest to the end of your list. • Print a new set of invitation messages, one for each person in your list.",
      "metadata": {}
    },
    {
      "id": "85d200c3",
      "cell_type": "code",
      "source": "# printing a message that we found a bigger dinner table\nprint('Good news I found a bigger dinner table.')\n\nnew_guest_beginning = 'Sir Salman'\nguests.insert(0, new_guest_beginning)\n\nnew_guest_middle = 'Sir Noman'\nguests.insert(2, new_guest_middle)\n\nnew_guest_end = 'Sir Arsalan'\nguests.append(new_guest_end)\n\nfor guest in guests:\n    print(f'Dear {guest}, \\nI would like to invite you to dinner. It would be an honor to have your presence.')",
      "metadata": {},
      "outputs": [
        {
          "name": "stdout",
          "output_type": "stream",
          "text": [
            "Good news I found a bigger dinner table.\n",
            "Dear Sir Salman, \n",
            "I would like to invite you to dinner. It would be an honor to have your presence.\n",
            "Dear Sir Danial, \n",
            "I would like to invite you to dinner. It would be an honor to have your presence.\n",
            "Dear Sir Noman, \n",
            "I would like to invite you to dinner. It would be an honor to have your presence.\n",
            "Dear Sir Isfahan Ahmad, \n",
            "I would like to invite you to dinner. It would be an honor to have your presence.\n",
            "Dear Sir Qasim Hassan, \n",
            "I would like to invite you to dinner. It would be an honor to have your presence.\n",
            "Dear Sir Arsalan, \n",
            "I would like to invite you to dinner. It would be an honor to have your presence.\n"
          ]
        }
      ],
      "execution_count": 84
    },
    {
      "id": "19049985-0932-4dbe-9610-ee5c11f89a6f",
      "cell_type": "markdown",
      "source": "10) Shrinking Guest List: You just found out that your new dinner table won’t arrive in time for the dinner, and you have space for only two guests.\n• Start with your program from Exercise 9. Add a new line that prints a message saying that you can invite only two people for dinner.\n\n• Remove guests from your list one at a time until only two names remain in your list. Each time you pop a name from your list, print a message to that person letting them know you’re sorry you can’t invite them to dinner.\n\n• Print a message to each of the two people still on your list, letting them know they’re still invited.\n\n• Remove the last two names from your list, so you have an empty list. Print your list to make sure you actually have an empty list at the end of your program.",
      "metadata": {}
    },
    {
      "id": "5611be52",
      "cell_type": "code",
      "source": "# Printing a message saying that only two people can be invited for dinner \nprint('Unfortunatly, the new dinner table will not arrive in time, we can only invite two people for dinner.')\n      \nwhile len(guests) > 2:\n      removed_guests = guests.pop()\n      print(f'Sorry {removed_guests}, the dinner table will not arrive in time, so we can not invite to dinner.')",
      "metadata": {},
      "outputs": [
        {
          "name": "stdout",
          "output_type": "stream",
          "text": [
            "Unfortunatly, the new dinner table will not arrive in time, we can only invite two people for dinner.\n",
            "Sorry Sir Arsalan, the dinner table will not arrive in time, so we can not invite to dinner.\n",
            "Sorry Sir Qasim Hassan, the dinner table will not arrive in time, so we can not invite to dinner.\n",
            "Sorry Sir Isfahan Ahmad, the dinner table will not arrive in time, so we can not invite to dinner.\n",
            "Sorry Sir Noman, the dinner table will not arrive in time, so we can not invite to dinner.\n"
          ]
        }
      ],
      "execution_count": 85
    },
    {
      "id": "cbda428e",
      "cell_type": "code",
      "source": "# letting them know they're still invited\nfor remaining_guest in guests:\n    print(f'{remaining_guest}, You are still invited.')",
      "metadata": {},
      "outputs": [
        {
          "name": "stdout",
          "output_type": "stream",
          "text": [
            "Sir Salman, You are still invited.\n",
            "Sir Danial, You are still invited.\n"
          ]
        }
      ],
      "execution_count": 86
    },
    {
      "id": "659c61ad",
      "cell_type": "code",
      "source": "# Removing the last two names\nguests.clear()\nprint(\"Empty list after removing the last 2 names:\", guests)",
      "metadata": {},
      "outputs": [
        {
          "name": "stdout",
          "output_type": "stream",
          "text": [
            "Empty list after removing the last 2 names: []\n"
          ]
        }
      ],
      "execution_count": 87
    }
  ]
}