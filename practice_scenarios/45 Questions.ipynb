{
 "cells": [
  {
   "cell_type": "raw",
   "id": "b4fac87f",
   "metadata": {},
   "source": [
    "1) Name Cases: Store a person’s name in a variable, and then print that person’s name in lowercase and uppercase."
   ]
  },
  {
   "cell_type": "code",
   "execution_count": 2,
   "id": "e5da4a0d",
   "metadata": {},
   "outputs": [],
   "source": [
    "name = 'Umair'"
   ]
  },
  {
   "cell_type": "code",
   "execution_count": 4,
   "id": "7d8022b7",
   "metadata": {},
   "outputs": [
    {
     "data": {
      "text/plain": [
       "'umair'"
      ]
     },
     "execution_count": 4,
     "metadata": {},
     "output_type": "execute_result"
    }
   ],
   "source": [
    "name.lower()"
   ]
  },
  {
   "cell_type": "code",
   "execution_count": 5,
   "id": "bb94b519",
   "metadata": {},
   "outputs": [
    {
     "data": {
      "text/plain": [
       "'UMAIR'"
      ]
     },
     "execution_count": 5,
     "metadata": {},
     "output_type": "execute_result"
    }
   ],
   "source": [
    "name.upper()"
   ]
  },
  {
   "cell_type": "raw",
   "id": "f11c1467",
   "metadata": {},
   "source": [
    "2) Famous Quote: Find a quote from a famous person you admire. Print the quote and the name of its author. Your output should look something like the following, including the quotation marks:\n",
    "\n",
    "Albert Einstein once said, “A person who never made a mistake never tried anything new.”"
   ]
  },
  {
   "cell_type": "code",
   "execution_count": 6,
   "id": "baf63b97",
   "metadata": {},
   "outputs": [],
   "source": [
    "author = 'Allama Iqbal'\n",
    "quote = \"Why should I waste my life in lamenting my fate? The answer to my complaint lies within me.\""
   ]
  },
  {
   "cell_type": "code",
   "execution_count": 9,
   "id": "fee396c2",
   "metadata": {},
   "outputs": [
    {
     "name": "stdout",
     "output_type": "stream",
     "text": [
      "Allama Iqbal once said, \"Why should I waste my life in lamenting my fate? The answer to my complaint lies within me.\"\n"
     ]
    }
   ],
   "source": [
    "print(f'{author} once said, \"{quote}\"')"
   ]
  },
  {
   "cell_type": "raw",
   "id": "49ef1174",
   "metadata": {},
   "source": [
    "3) Stripping Names: Store a person’s name, and include some whitespace characters at the beginning and end of the name. Print the name once, so the whitespace around the name is displayed. Then print the name after striping the white spaces."
   ]
  },
  {
   "cell_type": "code",
   "execution_count": 13,
   "id": "3b0a693f",
   "metadata": {},
   "outputs": [
    {
     "name": "stdout",
     "output_type": "stream",
     "text": [
      "   Umair  \n",
      "Umair\n"
     ]
    }
   ],
   "source": [
    "name = '   Umair  '\n",
    "print(name)\n",
    "print(name.strip())"
   ]
  },
  {
   "cell_type": "raw",
   "id": "4efa4746",
   "metadata": {},
   "source": [
    "4) Number Eight: Write addition, subtraction, multiplication, and division operations that each result in the number 8. Be sure to enclose your operations in print statements to see the results."
   ]
  },
  {
   "cell_type": "code",
   "execution_count": 16,
   "id": "7237044e",
   "metadata": {},
   "outputs": [
    {
     "name": "stdout",
     "output_type": "stream",
     "text": [
      "8\n",
      "8\n",
      "8\n",
      "8.0\n"
     ]
    }
   ],
   "source": [
    "add = 4+4\n",
    "print(add)\n",
    "\n",
    "sub = 12-4\n",
    "print(sub)\n",
    "\n",
    "multiply = 2*4\n",
    "print(multiply)\n",
    "\n",
    "divide = 16/2\n",
    "print(divide)"
   ]
  },
  {
   "cell_type": "raw",
   "id": "3943d2de",
   "metadata": {},
   "source": [
    "5) Names: Store the names of a few of your friends in a list called names. Print each person’s name by accessing each element in the list, one at a time."
   ]
  },
  {
   "cell_type": "code",
   "execution_count": 17,
   "id": "420e6349",
   "metadata": {},
   "outputs": [
    {
     "name": "stdout",
     "output_type": "stream",
     "text": [
      "Umair\n",
      "Salman\n",
      "Noman\n",
      "Arsalan\n"
     ]
    }
   ],
   "source": [
    "names = ['Umair', 'Salman', 'Noman', 'Arsalan']\n",
    "\n",
    "for name in names:\n",
    "    print(name)"
   ]
  },
  {
   "cell_type": "raw",
   "id": "284e7c13",
   "metadata": {},
   "source": [
    "6) Start with the list you used in Exercise 5, but instead of just printing each person’s name, print a message to them. The text of each message should be the same, but each message should be personalized with the person’s name.\n",
    "\n",
    "Your Own list: Think of your favorite mode of transportation, such as a motorcycle or a car, and make a list that stores several examples. Use your list to print a series of statements about these items, such as “I would like to own a Honda motorcycle"
   ]
  },
  {
   "cell_type": "code",
   "execution_count": 25,
   "id": "bcd349fb",
   "metadata": {},
   "outputs": [
    {
     "name": "stdout",
     "output_type": "stream",
     "text": [
      "Hellow Umair, just wanted to say hellow.\n",
      "Hellow Salman, just wanted to say hellow.\n",
      "Hellow Noman, just wanted to say hellow.\n",
      "Hellow Arsalan, just wanted to say hellow.\n",
      "I would like to own a Honda Civic.\n",
      "I would like to own a Toyota Camry.\n",
      "I would like to own a Ford Mustang.\n",
      "I would like to own a BMW M5.\n",
      "I would like to own a Tesla Model S.\n"
     ]
    }
   ],
   "source": [
    "names = ['Umair', 'Salman', 'Noman', 'Arsalan']\n",
    "\n",
    "for name in names:\n",
    "    print(f'Hellow {name}, just wanted to say hellow.')\n",
    "    \n",
    "\n",
    "cars = [\"Honda Civic\", \"Toyota Camry\", \"Ford Mustang\", \"BMW M5\", \"Tesla Model S\"]\n",
    "\n",
    "for car in cars:\n",
    "    print(f\"I would like to own a {car}.\")\n"
   ]
  },
  {
   "cell_type": "raw",
   "id": "741d5db9",
   "metadata": {},
   "source": [
    "7) Guest List: If you could invite anyone, living or deceased, to dinner, who would you invite? Make a list that includes at least three people you’d like to invite to dinner. Then use your list to print a message to each person, inviting them to dinner."
   ]
  },
  {
   "cell_type": "code",
   "execution_count": 80,
   "id": "0d4c9d50",
   "metadata": {},
   "outputs": [
    {
     "name": "stdout",
     "output_type": "stream",
     "text": [
      "Dear Sir Zia,\n",
      "I would like to invite you to dinner. It would be an honor to have your presence.\n",
      "Dear Sir Isfahan Ahmad,\n",
      "I would like to invite you to dinner. It would be an honor to have your presence.\n",
      "Dear Sir Qasim Hassan,\n",
      "I would like to invite you to dinner. It would be an honor to have your presence.\n"
     ]
    }
   ],
   "source": [
    "guests = ['Sir Zia', 'Sir Isfahan Ahmad', 'Sir Qasim Hassan']\n",
    "\n",
    "for guest in guests:\n",
    "    print(f'Dear {guest},\\nI would like to invite you to dinner. It would be an honor to have your presence.')"
   ]
  },
  {
   "cell_type": "raw",
   "id": "a262434b",
   "metadata": {},
   "source": [
    "8) Changing Guest List: You just heard that one of your guests can’t make the dinner, so you need to send out a new set of invitations. You’ll have to think of someone else to invite.\n",
    "\n",
    "• Start with your program from Exercise 7. Add a print statement at the end of your program stating the name of the guest who can’t make it.\n",
    "\n",
    "• Modify your list, replacing the name of the guest who can’t make it with the name of the new person you are inviting.\n",
    "\n",
    "• Print a second set of invitation messages, one for each person who is still in your list."
   ]
  },
  {
   "cell_type": "code",
   "execution_count": 81,
   "id": "0053c5a1",
   "metadata": {},
   "outputs": [
    {
     "name": "stdout",
     "output_type": "stream",
     "text": [
      "Unfortuantly, Sir Zia cant make it to dinner\n"
     ]
    }
   ],
   "source": [
    "guests = ['Sir Zia', 'Sir Isfahan Ahmad', 'Sir Qasim Hassan']\n",
    "\n",
    "guest_cant_make_dinner = guests.pop(0)\n",
    "print(f'Unfortuantly, {guest_cant_make_dinner} cant make it to dinner')"
   ]
  },
  {
   "cell_type": "code",
   "execution_count": 82,
   "id": "7dac3b4d",
   "metadata": {},
   "outputs": [],
   "source": [
    "new_guest = 'Sir Danial'\n",
    "\n",
    "guests.insert(0, new_guest)"
   ]
  },
  {
   "cell_type": "code",
   "execution_count": 83,
   "id": "f72c21f0",
   "metadata": {},
   "outputs": [
    {
     "name": "stdout",
     "output_type": "stream",
     "text": [
      "Dear Sir Danial, \n",
      "I would like to invite you to dinner. It would be an honor to have your presence.\n",
      "Dear Sir Isfahan Ahmad, \n",
      "I would like to invite you to dinner. It would be an honor to have your presence.\n",
      "Dear Sir Qasim Hassan, \n",
      "I would like to invite you to dinner. It would be an honor to have your presence.\n"
     ]
    }
   ],
   "source": [
    "for guest in guests:\n",
    "    print(f'Dear {guest}, \\nI would like to invite you to dinner. It would be an honor to have your presence.')"
   ]
  },
  {
   "cell_type": "raw",
   "id": "ba2b0fbb",
   "metadata": {},
   "source": [
    "9) More Guests: You just found a bigger dinner table, so now more space is available. Think of three more guests to invite to dinner.\n",
    "• Start with your program from Exercise 8. Add a print statement to the end of your program informing people that you found a bigger dinner table.\n",
    "\n",
    "• Add one new guest to the beginning of your array.\n",
    "\n",
    "• Add one new guest to the middle of your array. • Use append() to add one new guest to the end of your list. • Print a new set of invitation messages, one for each person in your list."
   ]
  },
  {
   "cell_type": "code",
   "execution_count": 84,
   "id": "85d200c3",
   "metadata": {},
   "outputs": [
    {
     "name": "stdout",
     "output_type": "stream",
     "text": [
      "Good news I found a bigger dinner table.\n",
      "Dear Sir Salman, \n",
      "I would like to invite you to dinner. It would be an honor to have your presence.\n",
      "Dear Sir Danial, \n",
      "I would like to invite you to dinner. It would be an honor to have your presence.\n",
      "Dear Sir Noman, \n",
      "I would like to invite you to dinner. It would be an honor to have your presence.\n",
      "Dear Sir Isfahan Ahmad, \n",
      "I would like to invite you to dinner. It would be an honor to have your presence.\n",
      "Dear Sir Qasim Hassan, \n",
      "I would like to invite you to dinner. It would be an honor to have your presence.\n",
      "Dear Sir Arsalan, \n",
      "I would like to invite you to dinner. It would be an honor to have your presence.\n"
     ]
    }
   ],
   "source": [
    "# printing a message that we found a bigger dinner table\n",
    "print('Good news I found a bigger dinner table.')\n",
    "\n",
    "new_guest_beginning = 'Sir Salman'\n",
    "guests.insert(0, new_guest_beginning)\n",
    "\n",
    "new_guest_middle = 'Sir Noman'\n",
    "guests.insert(2, new_guest_middle)\n",
    "\n",
    "new_guest_end = 'Sir Arsalan'\n",
    "guests.append(new_guest_end)\n",
    "\n",
    "for guest in guests:\n",
    "    print(f'Dear {guest}, \\nI would like to invite you to dinner. It would be an honor to have your presence.')"
   ]
  },
  {
   "cell_type": "raw",
   "id": "0f5e64ff",
   "metadata": {},
   "source": [
    "10) Shrinking Guest List: You just found out that your new dinner table won’t arrive in time for the dinner, and you have space for only two guests.\n",
    "• Start with your program from Exercise 9. Add a new line that prints a message saying that you can invite only two people for dinner.\n",
    "\n",
    "• Remove guests from your list one at a time until only two names remain in your list. Each time you pop a name from your list, print a message to that person letting them know you’re sorry you can’t invite them to dinner.\n",
    "\n",
    "• Print a message to each of the two people still on your list, letting them know they’re still invited.\n",
    "\n",
    "• Remove the last two names from your list, so you have an empty list. Print your list to make sure you actually have an empty list at the end of your program."
   ]
  },
  {
   "cell_type": "code",
   "execution_count": 85,
   "id": "5611be52",
   "metadata": {},
   "outputs": [
    {
     "name": "stdout",
     "output_type": "stream",
     "text": [
      "Unfortunatly, the new dinner table will not arrive in time, we can only invite two people for dinner.\n",
      "Sorry Sir Arsalan, the dinner table will not arrive in time, so we can not invite to dinner.\n",
      "Sorry Sir Qasim Hassan, the dinner table will not arrive in time, so we can not invite to dinner.\n",
      "Sorry Sir Isfahan Ahmad, the dinner table will not arrive in time, so we can not invite to dinner.\n",
      "Sorry Sir Noman, the dinner table will not arrive in time, so we can not invite to dinner.\n"
     ]
    }
   ],
   "source": [
    "# Printing a message saying that only two people can be invited for dinner \n",
    "print('Unfortunatly, the new dinner table will not arrive in time, we can only invite two people for dinner.')\n",
    "      \n",
    "while len(guests) > 2:\n",
    "      removed_guests = guests.pop()\n",
    "      print(f'Sorry {removed_guests}, the dinner table will not arrive in time, so we can not invite to dinner.')"
   ]
  },
  {
   "cell_type": "code",
   "execution_count": 86,
   "id": "cbda428e",
   "metadata": {},
   "outputs": [
    {
     "name": "stdout",
     "output_type": "stream",
     "text": [
      "Sir Salman, You are still invited.\n",
      "Sir Danial, You are still invited.\n"
     ]
    }
   ],
   "source": [
    "# letting them know they're still invited\n",
    "for remaining_guest in guests:\n",
    "    print(f'{remaining_guest}, You are still invited.')"
   ]
  },
  {
   "cell_type": "code",
   "execution_count": 87,
   "id": "659c61ad",
   "metadata": {},
   "outputs": [
    {
     "name": "stdout",
     "output_type": "stream",
     "text": [
      "Empty list after removing the last 2 names: []\n"
     ]
    }
   ],
   "source": [
    "# Removing the last two names\n",
    "guests.clear()\n",
    "print(\"Empty list after removing the last 2 names:\", guests)"
   ]
  },
  {
   "cell_type": "code",
   "execution_count": null,
   "id": "7d4720b7",
   "metadata": {},
   "outputs": [],
   "source": []
  }
 ],
 "metadata": {
  "kernelspec": {
   "display_name": "Python 3 (ipykernel)",
   "language": "python",
   "name": "python3"
  },
  "language_info": {
   "codemirror_mode": {
    "name": "ipython",
    "version": 3
   },
   "file_extension": ".py",
   "mimetype": "text/x-python",
   "name": "python",
   "nbconvert_exporter": "python",
   "pygments_lexer": "ipython3",
   "version": "3.11.5"
  }
 },
 "nbformat": 4,
 "nbformat_minor": 5
}
