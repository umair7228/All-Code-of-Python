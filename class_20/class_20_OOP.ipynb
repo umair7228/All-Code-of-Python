{
 "cells": [
  {
   "cell_type": "markdown",
   "id": "4926548b",
   "metadata": {},
   "source": [
    "## TASK:\n",
    "\n",
    "- create a saylani Bahadurabad class with atleast 1 method & 3 attributes i:e., web developmnet class\n",
    "- create a saylani Gulshan class with atleast 1 method & 3 attributes i:e., Python Programming\n",
    "- create a Saylani Bloach class that inherit Bhadurabad & Gulshan class but should additional capacify feature for Females"
   ]
  },
  {
   "cell_type": "code",
   "execution_count": 2,
   "id": "aa8d72b9",
   "metadata": {},
   "outputs": [],
   "source": [
    "class Saylani_Bahadurabad:\n",
    "    \n",
    "    def __init__(self, duration_bha, schedule_bha):\n",
    "        self.name_bha = \"Web Development\" # static varibale\n",
    "        self.duration_bha = duration_bha\n",
    "        self.schedule_bha = schedule_bha\n",
    "    \n",
    "    #method    \n",
    "    def get_info_bah(self):\n",
    "        print(f\"Course {self.name_bha}, duration {self.duration_bha}, schedule {self.schedule_bha}\")\n",
    "        \n",
    "class Saylani_Gulshan:\n",
    "    \n",
    "    def __init__(self, duration_gul, schedule_gul):\n",
    "        self.name_gul = \"Python programming\"\n",
    "        self.duration_gul = duration_gul\n",
    "        self.schedule_gul = schedule_gul\n",
    "    \n",
    "    def get_info_gul(self):\n",
    "        print(f\"Course {self.name_gul}, duration {self.duration_gul}, schedule {self.schedule_gul}\")\n",
    "        \n",
    "class Saylani_Bloach(Saylani_Bahadurabad, Saylani_Gulshan):\n",
    "    \n",
    "    def __init__(self,duration_bha, schedule_bha,\n",
    "                 duration_gul, schedule_gul,\n",
    "                 duration_bal, schedule_bal,\n",
    "                 capacity_of_female):\n",
    "        # super().__init__(duration, schedule) # first parent => Saylani_Bahadurabad\n",
    "        Saylani_Bahadurabad.__init__(self, duration_bha, schedule_bha)\n",
    "        Saylani_Gulshan.__init__(self, duration_gul, schedule_gul)\n",
    "        \n",
    "        self.name_bal = 'AWS'\n",
    "        self.duration_bal = duration_bal\n",
    "        self.schedule_bal = schedule_bal\n",
    "        self.capacity_of_female = capacity_of_female\n",
    "        \n",
    "    def get_info(self):\n",
    "        print(f\"Course {self.name_bal}, duration {self.duration_bal}, schedule {self.schedule_bal} and also have capacity for female {self.capacity_of_female}\")"
   ]
  },
  {
   "cell_type": "code",
   "execution_count": 3,
   "id": "4d38e35b",
   "metadata": {},
   "outputs": [],
   "source": [
    "saylani_bloach= Saylani_Bloach(\"2 Months\", \"9am to 11am\",\n",
    "                               \"4 Moths\", '12pm to 3pm',\n",
    "                               \"1 Months\", '4pm to 5pm',\n",
    "                               'Yes')"
   ]
  },
  {
   "cell_type": "code",
   "execution_count": 4,
   "id": "04d3b197",
   "metadata": {},
   "outputs": [
    {
     "name": "stdout",
     "output_type": "stream",
     "text": [
      "Course AWS, duration 1 Months, schedule 4pm to 5pm and also have capacity for female Yes\n"
     ]
    }
   ],
   "source": [
    "saylani_bloach.get_info()"
   ]
  },
  {
   "cell_type": "code",
   "execution_count": 5,
   "id": "d972ce19",
   "metadata": {},
   "outputs": [
    {
     "name": "stdout",
     "output_type": "stream",
     "text": [
      "Course Web Development, duration 2 Months, schedule 9am to 11am\n"
     ]
    }
   ],
   "source": [
    "saylani_bloach.get_info_bah()"
   ]
  },
  {
   "cell_type": "code",
   "execution_count": 6,
   "id": "3c55912a",
   "metadata": {},
   "outputs": [
    {
     "name": "stdout",
     "output_type": "stream",
     "text": [
      "Course Python programming, duration 4 Moths, schedule 12pm to 3pm\n"
     ]
    }
   ],
   "source": [
    "saylani_bloach.get_info_gul()"
   ]
  },
  {
   "cell_type": "code",
   "execution_count": 8,
   "id": "f2d761ed",
   "metadata": {},
   "outputs": [
    {
     "name": "stdout",
     "output_type": "stream",
     "text": [
      "Course AWS, duration 1 Months, schedule 4pm to 5pm and also have capacity for female Yes\n"
     ]
    }
   ],
   "source": [
    "saylani_bloach.get_info()"
   ]
  },
  {
   "cell_type": "code",
   "execution_count": 17,
   "id": "ce156fd7",
   "metadata": {},
   "outputs": [
    {
     "name": "stdout",
     "output_type": "stream",
     "text": [
      "Course Web Development, duration 6 month, schedule Evening\n",
      "Web Development\n"
     ]
    }
   ],
   "source": [
    "bahadurabad_class = Saylani_Bahadurabad(\"6 month\", \"Evening\")\n",
    "bahadurabad_class.get_info()\n",
    "\n",
    "print(bahadurabad_class.name)"
   ]
  },
  {
   "cell_type": "code",
   "execution_count": 18,
   "id": "43f07612",
   "metadata": {},
   "outputs": [
    {
     "name": "stdout",
     "output_type": "stream",
     "text": [
      "Course Python programming, duration 6 month, schedule Evening\n",
      "Python programming\n"
     ]
    }
   ],
   "source": [
    "saylani_gulshan = Saylani_Gulshan(\"6 month\", \"Evening\")\n",
    "saylani_gulshan.get_info()\n",
    "\n",
    "print(saylani_gulshan.name)"
   ]
  }
 ],
 "metadata": {
  "kernelspec": {
   "display_name": "Python 3 (ipykernel)",
   "language": "python",
   "name": "python3"
  },
  "language_info": {
   "codemirror_mode": {
    "name": "ipython",
    "version": 3
   },
   "file_extension": ".py",
   "mimetype": "text/x-python",
   "name": "python",
   "nbconvert_exporter": "python",
   "pygments_lexer": "ipython3",
   "version": "3.11.5"
  }
 },
 "nbformat": 4,
 "nbformat_minor": 5
}
