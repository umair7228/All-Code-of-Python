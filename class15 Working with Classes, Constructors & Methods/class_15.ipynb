{
 "cells": [
  {
   "cell_type": "markdown",
   "id": "dea18642",
   "metadata": {},
   "source": [
    "### Class 15:\n",
    "In this class I have learned about Classes in python"
   ]
  },
  {
   "cell_type": "markdown",
   "id": "b8a5dc62",
   "metadata": {},
   "source": [
    "### Classes in Python"
   ]
  },
  {
   "cell_type": "code",
   "execution_count": 6,
   "id": "8e9722aa",
   "metadata": {},
   "outputs": [],
   "source": [
    "class teacher():\n",
    "    pass"
   ]
  },
  {
   "cell_type": "markdown",
   "id": "da3d7084",
   "metadata": {},
   "source": [
    "### Classes: Starting to build the structure and Instance of class"
   ]
  },
  {
   "cell_type": "code",
   "execution_count": 20,
   "id": "a2e1d48d",
   "metadata": {},
   "outputs": [
    {
     "name": "stdout",
     "output_type": "stream",
     "text": [
      "Enter Your First Name: Umair\n",
      "Enter Your last Name: Nawaz\n",
      "Enter Your Address: Karachi, Pakistan\n",
      "Full Name of instructor is Umair Nawaz\n",
      "Address of instructor is Karachi, Pakistan\n"
     ]
    }
   ],
   "source": [
    "# Getting data of instructor:\n",
    "firstName = input(\"Enter Your First Name: \")\n",
    "lastName = input(\"Enter Your last Name: \")\n",
    "address = input(\"Enter Your Address: \")\n",
    "\n",
    "class instructor:\n",
    "    def __init__(self, firstName, lastName, address):\n",
    "        self.firstNameis = firstName\n",
    "        self.lastNameis = lastName\n",
    "        self.addressis = address\n",
    "    \n",
    "    def printInfo(self):\n",
    "        print(f'Full Name of insturctor is {self.firstNameis} {self.lastNameis}')\n",
    "        print(f\"Address of instructor is {self.addressis}\")\n",
    "        \n",
    "# Create an instance of the Instructor class\n",
    "instructor = Instructor(firstName, lastName, address)\n",
    "\n",
    "# Call the display_info method to print the information\n",
    "instructor.display_info()"
   ]
  },
  {
   "cell_type": "code",
   "execution_count": 22,
   "id": "2b8fb330",
   "metadata": {},
   "outputs": [
    {
     "name": "stdout",
     "output_type": "stream",
     "text": [
      "Umair\n"
     ]
    }
   ],
   "source": [
    "userInput = instructor.firstName\n",
    "print(userInput)"
   ]
  },
  {
   "cell_type": "code",
   "execution_count": 23,
   "id": "e78d118c",
   "metadata": {},
   "outputs": [
    {
     "name": "stdout",
     "output_type": "stream",
     "text": [
      "Nawaz\n",
      "Karachi, Pakistan\n"
     ]
    }
   ],
   "source": [
    "userInput = instructor.lastName\n",
    "print(userInput)\n",
    "\n",
    "userInput = instructor.address\n",
    "print(userInput)"
   ]
  },
  {
   "cell_type": "markdown",
   "id": "f50efcc0",
   "metadata": {},
   "source": [
    "###  Classes: Building functions into them"
   ]
  },
  {
   "cell_type": "code",
   "execution_count": 25,
   "id": "148a2803",
   "metadata": {},
   "outputs": [],
   "source": [
    "# Creating a Simple def function:\n",
    "def cnic(firstName, lastName, age):\n",
    "    if age >= 18:\n",
    "        print(f\"{firstName} {lastName} is eligible for CNIC because age is above then 18.\")\n",
    "    else:\n",
    "        print(f\"{firstName} {lastName} is not eligible for CNIC because age is less then 18.\")"
   ]
  },
  {
   "cell_type": "code",
   "execution_count": 29,
   "id": "163dafba",
   "metadata": {},
   "outputs": [
    {
     "name": "stdout",
     "output_type": "stream",
     "text": [
      "Umair Nawaz is not eligible for CNIC because age is less then 18.\n"
     ]
    }
   ],
   "source": [
    "cnic('Umair', 'Nawaz', 16)"
   ]
  },
  {
   "cell_type": "code",
   "execution_count": 50,
   "id": "e9bd0c86",
   "metadata": {},
   "outputs": [],
   "source": [
    "# Creating a class with functions and changing in class:\n",
    "class person:\n",
    "    def __init__(self, firstName, lastName, age):\n",
    "        self.firstName = firstName\n",
    "        self.lastName = lastName\n",
    "        self.age = age\n",
    "        \n",
    "    def cnic(self):\n",
    "        if self.age >= 18:\n",
    "            print(f\"{self.firstName} {self.lastName} is eligible for CNIC because age is above then 18.\")\n",
    "        else:\n",
    "            print(f\"{self.firstName} {self.lastName} is not eligible for CNIC because age is less then 18.\")\n",
    "    \n",
    "    # Now I want to change my last name:\n",
    "    def changeName(self, update_lastName):\n",
    "        self.lastName = update_lastName"
   ]
  },
  {
   "cell_type": "code",
   "execution_count": 51,
   "id": "c5c2af13",
   "metadata": {},
   "outputs": [],
   "source": [
    "personInfo = person('Umair', 'Nawaz', 16)"
   ]
  },
  {
   "cell_type": "code",
   "execution_count": 52,
   "id": "0f3733f5",
   "metadata": {},
   "outputs": [
    {
     "name": "stdout",
     "output_type": "stream",
     "text": [
      "Umair Nawaz is not eligible for CNIC because age is less then 18.\n"
     ]
    }
   ],
   "source": [
    "personInfo.cnic()"
   ]
  },
  {
   "cell_type": "code",
   "execution_count": 53,
   "id": "ae3cbbcc",
   "metadata": {},
   "outputs": [],
   "source": [
    "personInfo.changeName('Khan')"
   ]
  },
  {
   "cell_type": "code",
   "execution_count": 55,
   "id": "c5c23f36",
   "metadata": {},
   "outputs": [
    {
     "data": {
      "text/plain": [
       "'Khan'"
      ]
     },
     "execution_count": 55,
     "metadata": {},
     "output_type": "execute_result"
    }
   ],
   "source": [
    "personInfo.lastName # The last Name will be changed"
   ]
  }
 ],
 "metadata": {
  "kernelspec": {
   "display_name": "Python 3 (ipykernel)",
   "language": "python",
   "name": "python3"
  },
  "language_info": {
   "codemirror_mode": {
    "name": "ipython",
    "version": 3
   },
   "file_extension": ".py",
   "mimetype": "text/x-python",
   "name": "python",
   "nbconvert_exporter": "python",
   "pygments_lexer": "ipython3",
   "version": "3.11.5"
  }
 },
 "nbformat": 4,
 "nbformat_minor": 5
}
