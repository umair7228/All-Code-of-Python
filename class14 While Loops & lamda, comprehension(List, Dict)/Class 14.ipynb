{
 "cells": [
  {
   "cell_type": "markdown",
   "id": "5f5106ca",
   "metadata": {},
   "source": [
    "#  In this class we learned about While Loops, Lambda Functions & List Comprehension"
   ]
  },
  {
   "cell_type": "markdown",
   "id": "af51af82",
   "metadata": {},
   "source": [
    "### While Loop"
   ]
  },
  {
   "cell_type": "code",
   "execution_count": 1,
   "id": "21dee0fb",
   "metadata": {},
   "outputs": [
    {
     "name": "stdout",
     "output_type": "stream",
     "text": [
      "Enter Your Name: Umair\n",
      "1: Welcome Umair\n",
      "Enter Your Name: Nawaz\n",
      "2: Welcome Nawaz\n",
      "Enter Your Name: Khan\n",
      "3: Welcome Khan\n"
     ]
    }
   ],
   "source": [
    "# If I Know that How many People are comming in the Party So I can use simple 'for loop' for Welcomeing:\n",
    "\n",
    "for i in range(3):\n",
    "    name = input(\"Enter Your Name: \")\n",
    "    print(f\"{i + 1}: Welcome {name}\")"
   ]
  },
  {
   "cell_type": "code",
   "execution_count": 12,
   "id": "112e2873",
   "metadata": {},
   "outputs": [
    {
     "name": "stdout",
     "output_type": "stream",
     "text": [
      "Enter Your Name: Umair\n",
      "Welcom Umair\n",
      "Enter Your Name: Nawaz\n",
      "Welcom Nawaz\n",
      "Enter Your Name: Niaz\n",
      "Welcom Niaz\n",
      "Enter Your Name: Noman\n",
      "Welcom Noman\n",
      "Enter Your Name: Quit\n"
     ]
    }
   ],
   "source": [
    "# But Let Suppose If I don't Know that How many People are Comming in the party So I can use While Loop for Welcomeing:\n",
    "\n",
    "user_input = \"\"\n",
    "while user_input != \"Quit\":\n",
    "    user_input = input(\"Enter Your Name: \")\n",
    "    if user_input == \"Quit\":\n",
    "        break\n",
    "    print(f\"Welcom {user_input}\")"
   ]
  },
  {
   "cell_type": "markdown",
   "id": "e9ffbbe9",
   "metadata": {},
   "source": [
    "### Example 2:"
   ]
  },
  {
   "cell_type": "code",
   "execution_count": 2,
   "id": "999fd089",
   "metadata": {},
   "outputs": [
    {
     "name": "stdout",
     "output_type": "stream",
     "text": [
      "Enter the name of a city: Cheyenne\n",
      "It's one of the cleanest cities\n"
     ]
    }
   ],
   "source": [
    "cleanest_cities = [\"Cheyenne\", \"Santa Fe\", \"Tucson\", \"Great Falls\", \"Honolulu\"]\n",
    "city_to_check = input(\"Enter the name of a city: \")\n",
    "\n",
    "for a_clean_city in cleanest_cities:\n",
    "    if city_to_check == a_clean_city:\n",
    "        print(\"It's one of the cleanest cities\")\n",
    "        break\n",
    "# It can run just one time"
   ]
  },
  {
   "cell_type": "code",
   "execution_count": 1,
   "id": "5a69283f",
   "metadata": {},
   "outputs": [
    {
     "name": "stdout",
     "output_type": "stream",
     "text": [
      "Enter A Country Name: France\n",
      "France is one of the cleanest country in the world\n",
      "Enter A Country Name: Pakistan\n",
      "Enter A Country Name: Exit\n"
     ]
    }
   ],
   "source": [
    "cleanest_countries = [\"Switzerland\", \"France\", \"Iceland\", \"Sweden\", \"Austria\"]\n",
    "\n",
    "user_input = \"\"\n",
    "while user_input != \"Exit\":\n",
    "    user_input = input(\"Enter A Country Name: \")\n",
    "    if user_input != \"Exit\":\n",
    "        for a_clean_country in cleanest_countries:\n",
    "            if user_input == a_clean_country:\n",
    "                print(f\"{user_input} is one of the cleanest country in the world\")\n",
    "                break\n",
    "# It can run multiple times"
   ]
  },
  {
   "cell_type": "markdown",
   "id": "e59f197c",
   "metadata": {},
   "source": [
    "### While loops: Setting a flag"
   ]
  },
  {
   "cell_type": "code",
   "execution_count": 1,
   "id": "362acb5b",
   "metadata": {},
   "outputs": [
    {
     "name": "stdout",
     "output_type": "stream",
     "text": [
      "Enter A Country Name: Sweden\n",
      "Sweden is one of the cleanest country in the world\n",
      "Enter A Country Name: Pakistan\n",
      "Enter A Country Name: Exit\n"
     ]
    }
   ],
   "source": [
    "cleanest_countries = [\"Switzerland\", \"France\", \"Iceland\", \"Sweden\", \"Austria\"]\n",
    "\n",
    "keep_looping = True\n",
    "while keep_looping == True:\n",
    "    user_input = input(\"Enter A Country Name: \")\n",
    "    if user_input != \"Exit\":\n",
    "        for a_clean_country in cleanest_countries:\n",
    "            if user_input == a_clean_country:\n",
    "                print(f\"{user_input} is one of the cleanest country in the world\")\n",
    "                break\n",
    "    else:\n",
    "        keep_looping = False"
   ]
  },
  {
   "cell_type": "markdown",
   "id": "27e2fc54",
   "metadata": {},
   "source": [
    "### List Comprehension"
   ]
  },
  {
   "cell_type": "code",
   "execution_count": 1,
   "id": "abb3057b",
   "metadata": {},
   "outputs": [],
   "source": [
    "cleanest_countries = [\"Switzerland\",\n",
    "                      \"France\",\n",
    "                      \"Iceland\",\n",
    "                      \"Sweden\",\n",
    "                      \"Austria\"]"
   ]
  },
  {
   "cell_type": "code",
   "execution_count": 2,
   "id": "a78a64f6",
   "metadata": {},
   "outputs": [
    {
     "name": "stdout",
     "output_type": "stream",
     "text": [
      "['France', 'Iceland']\n"
     ]
    }
   ],
   "source": [
    "# Using Normal Code:\n",
    "c_alphabet = []\n",
    "for clean_count in cleanest_countries:\n",
    "    if \"c\" in clean_count:\n",
    "        c_alphabet.append(clean_count)\n",
    "        \n",
    "print(c_alphabet)"
   ]
  },
  {
   "cell_type": "code",
   "execution_count": 7,
   "id": "83d5e7f2",
   "metadata": {},
   "outputs": [],
   "source": [
    "# Using List Comprehension\n",
    "c_alphabet = [c for c in cleanest_countries if 'c' in c]"
   ]
  },
  {
   "cell_type": "code",
   "execution_count": 8,
   "id": "47f8a0e0",
   "metadata": {},
   "outputs": [
    {
     "name": "stdout",
     "output_type": "stream",
     "text": [
      "['France', 'Iceland']\n"
     ]
    }
   ],
   "source": [
    "print(c_alphabet)"
   ]
  },
  {
   "cell_type": "markdown",
   "id": "ee681160",
   "metadata": {},
   "source": [
    "### Example 2"
   ]
  },
  {
   "cell_type": "code",
   "execution_count": 10,
   "id": "f8c89116",
   "metadata": {},
   "outputs": [],
   "source": []
  },
  {
   "cell_type": "code",
   "execution_count": 1,
   "id": "b4070b9a",
   "metadata": {},
   "outputs": [
    {
     "name": "stdout",
     "output_type": "stream",
     "text": [
      "Enter Country: Sweden\n",
      "[True]\n",
      "Enter Country: Pakistan\n",
      "[]\n",
      "Enter Country: Exit\n"
     ]
    }
   ],
   "source": [
    "cleanest_countries = [\"Switzerland\",\n",
    "                      \"France\",\n",
    "                      \"Iceland\",\n",
    "                      \"Sweden\",\n",
    "                      \"Austria\"]\n",
    "\n",
    "user_input = \"\"\n",
    "while user_input != \"Exit\":\n",
    "    user_input = input(\"Enter Country: \")\n",
    "    clean_count = [True for x in cleanest_countries if user_input == x]\n",
    "    if user_input == \"Exit\":\n",
    "        break\n",
    "    print(clean_count)"
   ]
  },
  {
   "cell_type": "markdown",
   "id": "2e4043f2",
   "metadata": {},
   "source": [
    "### Scenario\n",
    "number = [1,2,3,4,5,6,7,8,9]\n",
    "You have a list of numbers and You need to calculate the even & odd numbers"
   ]
  },
  {
   "cell_type": "code",
   "execution_count": 6,
   "id": "13a4fb93",
   "metadata": {},
   "outputs": [
    {
     "name": "stdout",
     "output_type": "stream",
     "text": [
      "[2, 4, 6, 8]\n",
      "[1, 3, 5, 7, 9]\n"
     ]
    }
   ],
   "source": [
    "numbers = [1,2,3,4,5,6,7,8,9]\n",
    "\n",
    "even = [num for num in numbers if num % 2 == 0]\n",
    "odd = [num for num in numbers if num % 2 != 0]\n",
    "\n",
    "print(even)\n",
    "print(odd)"
   ]
  },
  {
   "cell_type": "code",
   "execution_count": 9,
   "id": "d9a0774b",
   "metadata": {},
   "outputs": [
    {
     "name": "stdout",
     "output_type": "stream",
     "text": [
      "[False, True, False, True, False, True, False, True, False]\n"
     ]
    }
   ],
   "source": [
    "numbers = [1,2,3,4,5,6,7,8,9]\n",
    "\n",
    "boolian_list = [True if num % 2 == 0 else False for num in numbers]\n",
    "\n",
    "\n",
    "print(boolian_list)"
   ]
  },
  {
   "cell_type": "markdown",
   "id": "ae52aaf4",
   "metadata": {},
   "source": [
    "### Lambda Function"
   ]
  },
  {
   "cell_type": "code",
   "execution_count": 4,
   "id": "775aba02",
   "metadata": {},
   "outputs": [],
   "source": [
    "# def function\n",
    "def calc(num1, num2):\n",
    "    return num1 * num2"
   ]
  },
  {
   "cell_type": "code",
   "execution_count": 5,
   "id": "09ee21a4",
   "metadata": {},
   "outputs": [
    {
     "name": "stdout",
     "output_type": "stream",
     "text": [
      "18\n"
     ]
    }
   ],
   "source": [
    "x = calc(3, 6)\n",
    "print(x)"
   ]
  },
  {
   "cell_type": "code",
   "execution_count": 6,
   "id": "799bd8ad",
   "metadata": {},
   "outputs": [],
   "source": [
    "# By Lambda Function\n",
    "x = lambda num1, num2 : num1 * num2"
   ]
  },
  {
   "cell_type": "code",
   "execution_count": 7,
   "id": "08894456",
   "metadata": {},
   "outputs": [
    {
     "name": "stdout",
     "output_type": "stream",
     "text": [
      "24\n"
     ]
    }
   ],
   "source": [
    "print(x(4, 6))"
   ]
  },
  {
   "cell_type": "markdown",
   "id": "97d2820e",
   "metadata": {},
   "source": [
    "## Ex 2"
   ]
  },
  {
   "cell_type": "code",
   "execution_count": 26,
   "id": "22a1d9a5",
   "metadata": {},
   "outputs": [],
   "source": [
    "first_names = [\"Umair\"]\n",
    "last_names = [\"Nawaz\"]\n",
    "\n",
    "full_names = lambda first_names, last_names : first_names[0] + \" \" + last_names[0]"
   ]
  },
  {
   "cell_type": "code",
   "execution_count": 27,
   "id": "6ca9bd3a",
   "metadata": {},
   "outputs": [
    {
     "name": "stdout",
     "output_type": "stream",
     "text": [
      "Umair Nawaz\n"
     ]
    }
   ],
   "source": [
    "print(full_names(first_names, last_names))"
   ]
  },
  {
   "cell_type": "code",
   "execution_count": 29,
   "id": "b1796d56",
   "metadata": {},
   "outputs": [
    {
     "name": "stdout",
     "output_type": "stream",
     "text": [
      "49\n"
     ]
    }
   ],
   "source": [
    "square = lambda x: x**2\n",
    "print(square(7))"
   ]
  }
 ],
 "metadata": {
  "kernelspec": {
   "display_name": "Python 3 (ipykernel)",
   "language": "python",
   "name": "python3"
  },
  "language_info": {
   "codemirror_mode": {
    "name": "ipython",
    "version": 3
   },
   "file_extension": ".py",
   "mimetype": "text/x-python",
   "name": "python",
   "nbconvert_exporter": "python",
   "pygments_lexer": "ipython3",
   "version": "3.11.5"
  }
 },
 "nbformat": 4,
 "nbformat_minor": 5
}
