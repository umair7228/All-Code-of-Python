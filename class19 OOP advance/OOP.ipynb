{
 "cells": [
  {
   "cell_type": "markdown",
   "id": "980e09e7",
   "metadata": {},
   "source": [
    "## Classes, Objects, Methods & Constructors"
   ]
  },
  {
   "cell_type": "code",
   "execution_count": 10,
   "id": "ec0d4004",
   "metadata": {},
   "outputs": [],
   "source": [
    "class Student():\n",
    "    def __init__(self, studentName, studentID):\n",
    "        self.studentName = studentName\n",
    "        self.studentID = studentID\n",
    "        self.organizationName = \"SMIT\"\n",
    "        \n",
    "    def speaking(self, words : str): #method\n",
    "        print(f\"{self.studentName} is speaking {words}.\")\n",
    "        \n",
    "    def course(self, course : str): # method\n",
    "        print(f\"{self.studentName} is a student of {course}.\")"
   ]
  },
  {
   "cell_type": "code",
   "execution_count": 11,
   "id": "b0d06bfa",
   "metadata": {},
   "outputs": [],
   "source": [
    "#intialize object->calling constructor __init__() method only this time\n",
    "obj1 = Student(\"Umair\", 1)\n",
    "obj2 = Student(\"Salman\", 2)"
   ]
  },
  {
   "cell_type": "code",
   "execution_count": 12,
   "id": "59537413",
   "metadata": {},
   "outputs": [
    {
     "name": "stdout",
     "output_type": "stream",
     "text": [
      "Umair\n",
      "1\n",
      "SMIT\n",
      "Salman\n",
      "2\n",
      "SMIT\n"
     ]
    }
   ],
   "source": [
    "print(obj1.studentName)\n",
    "print(obj1.studentID)\n",
    "print(obj1.organizationName)\n",
    "\n",
    "print(obj2.studentName)\n",
    "print(obj2.studentID)\n",
    "print(obj2.organizationName)"
   ]
  },
  {
   "cell_type": "code",
   "execution_count": 14,
   "id": "c481d0bb",
   "metadata": {},
   "outputs": [
    {
     "name": "stdout",
     "output_type": "stream",
     "text": [
      "Umair is a student of Python Programming.\n"
     ]
    }
   ],
   "source": [
    "obj1.course(\"Python Programming\")"
   ]
  },
  {
   "cell_type": "code",
   "execution_count": 15,
   "id": "38d97541",
   "metadata": {},
   "outputs": [
    {
     "name": "stdout",
     "output_type": "stream",
     "text": [
      "Salman is a student of Certified Cloud Applied Gen AI.\n"
     ]
    }
   ],
   "source": [
    "obj2.course(\"Certified Cloud Applied Gen AI\")"
   ]
  },
  {
   "cell_type": "code",
   "execution_count": 16,
   "id": "32b3c982",
   "metadata": {},
   "outputs": [
    {
     "data": {
      "text/plain": [
       "['__class__',\n",
       " '__delattr__',\n",
       " '__dict__',\n",
       " '__dir__',\n",
       " '__doc__',\n",
       " '__eq__',\n",
       " '__format__',\n",
       " '__ge__',\n",
       " '__getattribute__',\n",
       " '__getstate__',\n",
       " '__gt__',\n",
       " '__hash__',\n",
       " '__init__',\n",
       " '__init_subclass__',\n",
       " '__le__',\n",
       " '__lt__',\n",
       " '__module__',\n",
       " '__ne__',\n",
       " '__new__',\n",
       " '__reduce__',\n",
       " '__reduce_ex__',\n",
       " '__repr__',\n",
       " '__setattr__',\n",
       " '__sizeof__',\n",
       " '__str__',\n",
       " '__subclasshook__',\n",
       " '__weakref__',\n",
       " 'course',\n",
       " 'organizationName',\n",
       " 'speaking',\n",
       " 'studentID',\n",
       " 'studentName']"
      ]
     },
     "execution_count": 16,
     "metadata": {},
     "output_type": "execute_result"
    }
   ],
   "source": [
    "dir(obj1)"
   ]
  },
  {
   "cell_type": "code",
   "execution_count": 17,
   "id": "9f202ff9",
   "metadata": {},
   "outputs": [
    {
     "data": {
      "text/plain": [
       "['course', 'organizationName', 'speaking', 'studentID', 'studentName']"
      ]
     },
     "execution_count": 17,
     "metadata": {},
     "output_type": "execute_result"
    }
   ],
   "source": [
    "[i for i in dir(obj1) if '__' not in i]"
   ]
  },
  {
   "cell_type": "code",
   "execution_count": 25,
   "id": "9dc7cf88",
   "metadata": {},
   "outputs": [],
   "source": [
    "class Student():\n",
    "    counter : int = 0 # Class variable\n",
    "    help_contect : str = \"0340-000000\" # class variable 2\n",
    "    \n",
    "    def __init__(self, studentName, studentID):\n",
    "        self.studentName = studentName\n",
    "        self.studentID = studentID\n",
    "        self.organizationName = \"SMIT\"\n",
    "        Student.counter += 1\n",
    "        \n",
    "    def speaking(self, words : str): #method\n",
    "        print(f\"{self.studentName} is speaking {words}.\")\n",
    "        \n",
    "    def course(self, course : str): # method\n",
    "        print(f\"{self.studentName} is a student of {course}.\")\n",
    "        \n",
    "    def details(self):\n",
    "        information = f\"\"\"\n",
    "Student Name is {self.studentName}\n",
    "Our Help line number is {Student.help_contect}\n",
    "\"\"\"\n",
    "        \n",
    "        print(information)"
   ]
  },
  {
   "cell_type": "code",
   "execution_count": 26,
   "id": "aaf4b8c1",
   "metadata": {},
   "outputs": [
    {
     "name": "stdout",
     "output_type": "stream",
     "text": [
      "1 1\n"
     ]
    }
   ],
   "source": [
    "# obj1 = object, teacher class instance\n",
    "obj1 = Student(\"Umair\", 1)\n",
    "print(Student.counter, obj1.counter)"
   ]
  },
  {
   "cell_type": "code",
   "execution_count": 27,
   "id": "f24085da",
   "metadata": {},
   "outputs": [
    {
     "name": "stdout",
     "output_type": "stream",
     "text": [
      "2 2\n"
     ]
    }
   ],
   "source": [
    "obj2 = Student(\"Salman\", 2)\n",
    "print(Student.counter, obj1.counter)"
   ]
  },
  {
   "cell_type": "code",
   "execution_count": 28,
   "id": "bb0c3940",
   "metadata": {},
   "outputs": [
    {
     "name": "stdout",
     "output_type": "stream",
     "text": [
      "2\n",
      "2\n",
      "2\n"
     ]
    }
   ],
   "source": [
    "print(obj1.counter)\n",
    "print(obj2.counter)\n",
    "print(Student.counter)"
   ]
  },
  {
   "cell_type": "code",
   "execution_count": 29,
   "id": "db4914b3",
   "metadata": {},
   "outputs": [
    {
     "name": "stdout",
     "output_type": "stream",
     "text": [
      "\n",
      "Student Name is Umair\n",
      "Our Help line number is 0340-000000\n",
      "\n"
     ]
    }
   ],
   "source": [
    "obj1.details()"
   ]
  },
  {
   "cell_type": "markdown",
   "id": "29938304",
   "metadata": {},
   "source": [
    "### Static Method and Static variable"
   ]
  },
  {
   "cell_type": "code",
   "execution_count": 30,
   "id": "33870fbc",
   "metadata": {},
   "outputs": [
    {
     "name": "stdout",
     "output_type": "stream",
     "text": [
      "Addition: 20\n",
      "Multiplication: 75\n",
      "Static variable or Class variable SMIT\n"
     ]
    }
   ],
   "source": [
    "class MathOperations:\n",
    "\n",
    "    counter = 50\n",
    "    organization = \"SMIT\"\n",
    "\n",
    "    @staticmethod\n",
    "    def add(a, b):\n",
    "        \"\"\"Add two numbers.\"\"\"\n",
    "        return a + b\n",
    "\n",
    "    @staticmethod\n",
    "    def multiply(a, b):\n",
    "        \"\"\"Multiply two numbers.\"\"\"\n",
    "        return a * b\n",
    "\n",
    "# Using the static methods\n",
    "result_add = MathOperations.add(5, 15)\n",
    "result_multiply = MathOperations.multiply(5, 15)\n",
    "\n",
    "print(\"Addition:\", result_add)\n",
    "print(\"Multiplication:\", result_multiply)\n",
    "print(\"Static variable or Class variable\",MathOperations.organization)"
   ]
  },
  {
   "cell_type": "markdown",
   "id": "348c6aaa",
   "metadata": {},
   "source": [
    "## OOP (Object Oriented Programming)\n",
    "\n",
    "- Inheritance\n",
    "- Abstraction [class(abstract/blueprint)--> class --> object]\n",
    "- Polymorphism\n",
    "- Encapsulation\n"
   ]
  },
  {
   "cell_type": "markdown",
   "id": "bcc6eddf",
   "metadata": {},
   "source": [
    "#### Inhertance"
   ]
  },
  {
   "cell_type": "code",
   "execution_count": 36,
   "id": "e80c875e",
   "metadata": {},
   "outputs": [],
   "source": [
    "class Parents(): # what is has & what it can do\n",
    "    \n",
    "    def __init__(self):\n",
    "        self.eye_color = \"Brown\"\n",
    "        self.hair_color = \"Black\"\n",
    "        \n",
    "    def speak(self, word):\n",
    "        print(f\"Perent method speak: {word}\")\n",
    "        \n",
    "    def watching(self, object_name):\n",
    "        print(f\"You are looking {object_name}!\")\n",
    "        \n",
    "class Child(Parents):\n",
    "        \n",
    "    def drive(self, vehicle):\n",
    "        print(f\"Child can drive vehicle: {vehicle}\")"
   ]
  },
  {
   "cell_type": "code",
   "execution_count": 37,
   "id": "f2861546",
   "metadata": {},
   "outputs": [],
   "source": [
    "parent = Parents()"
   ]
  },
  {
   "cell_type": "code",
   "execution_count": 41,
   "id": "34970e52",
   "metadata": {},
   "outputs": [
    {
     "name": "stdout",
     "output_type": "stream",
     "text": [
      "Brown\n",
      "Black\n",
      "Perent method speak: Got to SMIT\n",
      "You are looking re:invernt!\n"
     ]
    }
   ],
   "source": [
    "# parent class\n",
    "print(parent.eye_color)\n",
    "print(parent.hair_color)\n",
    "parent.speak(\"Got to SMIT\")\n",
    "parent.watching('re:invernt')"
   ]
  },
  {
   "cell_type": "code",
   "execution_count": 42,
   "id": "1bda3e4b",
   "metadata": {},
   "outputs": [],
   "source": [
    "chlid = Child()"
   ]
  },
  {
   "cell_type": "code",
   "execution_count": 43,
   "id": "866ef3b0",
   "metadata": {},
   "outputs": [
    {
     "name": "stdout",
     "output_type": "stream",
     "text": [
      "Brown\n",
      "Black\n",
      "Perent method speak: Got to SMIT\n",
      "You are looking re:invernt!\n",
      "Child can drive vehicle: Bugatti\n"
     ]
    }
   ],
   "source": [
    "# child class\n",
    "print(chlid.eye_color)\n",
    "print(chlid.hair_color)\n",
    "chlid.speak(\"Got to SMIT\")\n",
    "chlid.watching('re:invernt')\n",
    "chlid.drive(\"Bugatti\")"
   ]
  },
  {
   "cell_type": "markdown",
   "id": "e7687654",
   "metadata": {},
   "source": [
    "## Example: 2\n",
    "\n",
    "single parent class to multiple chlid classes"
   ]
  },
  {
   "cell_type": "code",
   "execution_count": 45,
   "id": "98bc9f9e",
   "metadata": {},
   "outputs": [],
   "source": [
    "class Employee():\n",
    "    \n",
    "    def __init__(self, name, organization):\n",
    "        self.name = name\n",
    "        self.organization = organization\n",
    "        \n",
    "    def print_details(self):\n",
    "        print(f\"Employee name is {self.name} and organization is {self.organization}\")\n",
    "        \n",
    "class Designer(Employee):\n",
    "    def __init__(self, name, organization, title):\n",
    "        super().__init__(name, organization)\n",
    "        self.title = title\n",
    "        \n",
    "class Developer(Employee):\n",
    "    def __init__(self, title, name, organization):\n",
    "        super().__init__(name, organization)\n",
    "        self.title = title\n",
    "        self.programming_skill = [\"Python\"]"
   ]
  },
  {
   "cell_type": "code",
   "execution_count": 46,
   "id": "a2eee6c1",
   "metadata": {},
   "outputs": [],
   "source": [
    "designer = Designer(\"Umair\", \"SMIT\", \"Artist\")"
   ]
  },
  {
   "cell_type": "code",
   "execution_count": 48,
   "id": "5fc49a3a",
   "metadata": {},
   "outputs": [
    {
     "name": "stdout",
     "output_type": "stream",
     "text": [
      "Umair\n",
      "SMIT\n",
      "Artist\n",
      "Employee name is Umair and organization is SMIT\n"
     ]
    }
   ],
   "source": [
    "print(designer.name)\n",
    "print(designer.organization)\n",
    "print(designer.title)\n",
    "designer.print_details()"
   ]
  },
  {
   "cell_type": "code",
   "execution_count": 49,
   "id": "ee07b603",
   "metadata": {},
   "outputs": [],
   "source": [
    "developer = Developer('Certified Cloud Applied GenAI', 'Umair', 'Governor House')"
   ]
  },
  {
   "cell_type": "code",
   "execution_count": 51,
   "id": "f8d3c485",
   "metadata": {},
   "outputs": [
    {
     "name": "stdout",
     "output_type": "stream",
     "text": [
      "Umair\n",
      "Governor House\n",
      "Certified Cloud Applied GenAI\n",
      "['Python']\n",
      "Employee name is Umair and organization is Governor House\n"
     ]
    }
   ],
   "source": [
    "print(developer.name)\n",
    "print(developer.organization)\n",
    "print(developer.title)\n",
    "print(developer.programming_skill)\n",
    "developer.print_details()"
   ]
  },
  {
   "cell_type": "code",
   "execution_count": 52,
   "id": "7461050d",
   "metadata": {},
   "outputs": [
    {
     "name": "stdout",
     "output_type": "stream",
     "text": [
      "object height 6 Feet\n",
      "object eye color Green\n",
      "Mother Speaking function: Pakistan Zinda Bad\n"
     ]
    }
   ],
   "source": [
    "class Mother():\n",
    "    def __init__(self, name):\n",
    "        self.name = name\n",
    "        self.eye_color = \"Green\"\n",
    "        \n",
    "    def speaking(self, words):\n",
    "        return f\"Mother Speaking function: {words}\"\n",
    "    \n",
    "class Father():\n",
    "    def __init__(self, name):\n",
    "        self.name = name\n",
    "        self.height = \"6 Feet\"\n",
    "        \n",
    "    def speaking(self, words):\n",
    "        return f\"Mother Speaking function: {words}\"\n",
    "    \n",
    "class Child(Father, Mother):\n",
    "    def __init__(self, father_name, mother_name, child_name):\n",
    "        Father.__init__(self, father_name)\n",
    "        Mother.__init__(self, mother_name)\n",
    "        self.child_name = child_name\n",
    "        \n",
    "umair = Child(\"Muhammad Nawaz\", \"Fatima\", \"Umair\")\n",
    "\n",
    "print(f\"object height {umair.height}\")\n",
    "print(f\"object eye color {umair.eye_color}\")\n",
    "print(umair.speaking(\"Pakistan Zinda Bad\"))"
   ]
  }
 ],
 "metadata": {
  "kernelspec": {
   "display_name": "Python 3 (ipykernel)",
   "language": "python",
   "name": "python3"
  },
  "language_info": {
   "codemirror_mode": {
    "name": "ipython",
    "version": 3
   },
   "file_extension": ".py",
   "mimetype": "text/x-python",
   "name": "python",
   "nbconvert_exporter": "python",
   "pygments_lexer": "ipython3",
   "version": "3.11.5"
  }
 },
 "nbformat": 4,
 "nbformat_minor": 5
}
