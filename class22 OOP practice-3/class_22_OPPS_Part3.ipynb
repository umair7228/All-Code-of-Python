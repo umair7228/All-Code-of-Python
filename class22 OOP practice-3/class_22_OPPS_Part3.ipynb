{
 "cells": [
  {
   "cell_type": "markdown",
   "id": "428402ae",
   "metadata": {},
   "source": [
    "## Polymorphism: Operator Overloading\n",
    "- When the same operator is allowed to have different meaning according to the context"
   ]
  },
  {
   "cell_type": "markdown",
   "id": "38875b1f",
   "metadata": {},
   "source": [
    "##### Operators and Dunder Functions"
   ]
  },
  {
   "cell_type": "code",
   "execution_count": 12,
   "id": "425affad",
   "metadata": {},
   "outputs": [
    {
     "name": "stdout",
     "output_type": "stream",
     "text": [
      "2i + 5j\n",
      "5i + 9j\n"
     ]
    }
   ],
   "source": [
    "class Complex:\n",
    "    def __init__(self, real, img):\n",
    "        self.real = real\n",
    "        self.img = img\n",
    "        \n",
    "    def displayInfo(self):\n",
    "        return str(self.real) + \"i + \" + str(self.img) + \"j\"\n",
    "        \n",
    "num1 = Complex(2, 5)\n",
    "print(num1.displayInfo())\n",
    "\n",
    "num2 =Complex(5, 9)\n",
    "print(num2.displayInfo())"
   ]
  },
  {
   "cell_type": "code",
   "execution_count": 13,
   "id": "589f9319",
   "metadata": {},
   "outputs": [
    {
     "data": {
      "text/plain": [
       "'2i + 5j5i + 9j'"
      ]
     },
     "execution_count": 13,
     "metadata": {},
     "output_type": "execute_result"
    }
   ],
   "source": [
    "# If I want to add these both complex numbers by using + operator so it will merge togather like\n",
    "num1.displayInfo() + num2.displayInfo()"
   ]
  },
  {
   "cell_type": "code",
   "execution_count": 22,
   "id": "a77cb6ca",
   "metadata": {},
   "outputs": [
    {
     "name": "stdout",
     "output_type": "stream",
     "text": [
      "2i + 5j\n",
      "5i + 9j\n",
      "7i + 14j\n"
     ]
    }
   ],
   "source": [
    "# But If I want to add these two complex numbers by using + operator and like (2i + 5i = 7i) & (5j + 9j = 14j)so\n",
    "class Complex:\n",
    "    def __init__(self, real, img):\n",
    "        self.real = real\n",
    "        self.img = img\n",
    "        \n",
    "    def displayInfo(self):\n",
    "        return str(self.real) + \"i + \" + str(self.img) + \"j\"\n",
    "    \n",
    "    def add(self, num2):\n",
    "        newReal = self.real + num2.real\n",
    "        newImg = self.img + num2.img\n",
    "        return Complex(newReal, newImg)\n",
    "        \n",
    "num1 = Complex(2, 5)\n",
    "print(num1.displayInfo())\n",
    "\n",
    "num2 =Complex(5, 9)\n",
    "print(num2.displayInfo())\n",
    "\n",
    "num3 = num1.add(num2) # Here I have added num2 in num1 by add-function\n",
    "print(num3.displayInfo())"
   ]
  },
  {
   "cell_type": "code",
   "execution_count": null,
   "id": "315163fd",
   "metadata": {},
   "outputs": [],
   "source": []
  }
 ],
 "metadata": {
  "kernelspec": {
   "display_name": "Python 3 (ipykernel)",
   "language": "python",
   "name": "python3"
  },
  "language_info": {
   "codemirror_mode": {
    "name": "ipython",
    "version": 3
   },
   "file_extension": ".py",
   "mimetype": "text/x-python",
   "name": "python",
   "nbconvert_exporter": "python",
   "pygments_lexer": "ipython3",
   "version": "3.11.5"
  }
 },
 "nbformat": 4,
 "nbformat_minor": 5
}
